{
 "cells": [
  {
   "cell_type": "code",
   "execution_count": null,
   "id": "b91bd3ba",
   "metadata": {},
   "outputs": [],
   "source": [
    "import numpy as np\n",
    "import pandas as pd\n",
    "import yfinance as yf\n",
    "import matplotlib.pyplot as plt\n",
    "from copulas.visualization import compare_2d\n",
    "from copulas.multivariate import GaussianMultivariate"
   ]
  },
  {
   "cell_type": "code",
   "execution_count": 22,
   "id": "c1d0f345",
   "metadata": {},
   "outputs": [],
   "source": [
    "# --- Imports \"oficiales\" ---\n",
    "import numpy as np\n",
    "import pandas as pd\n",
    "import seaborn as sns\n",
    "import matplotlib.pyplot as plt\n",
    "\n",
    "from math import sin, pi\n",
    "from scipy.stats import norm, expon, gamma, laplace  # márgenes + Φ/Φ^{-1}\n",
    "\n",
    "# Para diagnóstico/visualización con la librería copulas\n",
    "from copulas.visualization import compare_2d, scatter_2d, compare_3d, scatter_3d\n",
    "from copulas.multivariate import GaussianMultivariate  # Útil si luego quieres \"fit\" a datos"
   ]
  },
  {
   "cell_type": "code",
   "execution_count": 88,
   "id": "da14b317",
   "metadata": {},
   "outputs": [
    {
     "name": "stdout",
     "output_type": "stream",
     "text": [
      "<class 'pandas.core.frame.DataFrame'>\n",
      "Index: 46 entries, 0 to 46\n",
      "Data columns (total 3 columns):\n",
      " #   Column           Non-Null Count  Dtype  \n",
      "---  ------           --------------  -----  \n",
      " 0   R&D Spend        46 non-null     float64\n",
      " 1   Marketing Spend  46 non-null     float64\n",
      " 2   Profit           46 non-null     float64\n",
      "dtypes: float64(3)\n",
      "memory usage: 1.4 KB\n",
      "None\n",
      "           R&D Spend  Marketing Spend         Profit\n",
      "count      46.000000        46.000000      46.000000\n",
      "mean    78241.718043    228393.083261  117063.925217\n",
      "std     43695.348335    111336.691801   35960.003971\n",
      "min      1000.230000      1903.930000   49490.750000\n",
      "25%     46117.032500    142431.385000   96537.832500\n",
      "50%     74661.715000    239452.750000  108643.015000\n",
      "75%    111370.977500    302423.767500  143590.930000\n",
      "max    165349.200000    471784.100000  192261.830000\n"
     ]
    }
   ],
   "source": [
    "df = pd.read_csv('../data/50_Startups.csv')\n",
    "df.drop(['State', 'Administration'], axis=1, inplace=True)\n",
    "df = df[(df != 0).all(axis=1)]\n",
    "\n",
    "print(df.info())\n",
    "print(df.describe())"
   ]
  },
  {
   "cell_type": "code",
   "execution_count": 89,
   "id": "b2713ac8",
   "metadata": {},
   "outputs": [
    {
     "data": {
      "text/html": [
       "<div>\n",
       "<style scoped>\n",
       "    .dataframe tbody tr th:only-of-type {\n",
       "        vertical-align: middle;\n",
       "    }\n",
       "\n",
       "    .dataframe tbody tr th {\n",
       "        vertical-align: top;\n",
       "    }\n",
       "\n",
       "    .dataframe thead th {\n",
       "        text-align: right;\n",
       "    }\n",
       "</style>\n",
       "<table border=\"1\" class=\"dataframe\">\n",
       "  <thead>\n",
       "    <tr style=\"text-align: right;\">\n",
       "      <th></th>\n",
       "      <th>R&amp;D Spend</th>\n",
       "      <th>Marketing Spend</th>\n",
       "      <th>Profit</th>\n",
       "    </tr>\n",
       "  </thead>\n",
       "  <tbody>\n",
       "    <tr>\n",
       "      <th>0</th>\n",
       "      <td>165349.20</td>\n",
       "      <td>471784.10</td>\n",
       "      <td>192261.83</td>\n",
       "    </tr>\n",
       "    <tr>\n",
       "      <th>1</th>\n",
       "      <td>162597.70</td>\n",
       "      <td>443898.53</td>\n",
       "      <td>191792.06</td>\n",
       "    </tr>\n",
       "    <tr>\n",
       "      <th>2</th>\n",
       "      <td>153441.51</td>\n",
       "      <td>407934.54</td>\n",
       "      <td>191050.39</td>\n",
       "    </tr>\n",
       "    <tr>\n",
       "      <th>3</th>\n",
       "      <td>144372.41</td>\n",
       "      <td>383199.62</td>\n",
       "      <td>182901.99</td>\n",
       "    </tr>\n",
       "    <tr>\n",
       "      <th>4</th>\n",
       "      <td>142107.34</td>\n",
       "      <td>366168.42</td>\n",
       "      <td>166187.94</td>\n",
       "    </tr>\n",
       "    <tr>\n",
       "      <th>5</th>\n",
       "      <td>131876.90</td>\n",
       "      <td>362861.36</td>\n",
       "      <td>156991.12</td>\n",
       "    </tr>\n",
       "    <tr>\n",
       "      <th>6</th>\n",
       "      <td>134615.46</td>\n",
       "      <td>127716.82</td>\n",
       "      <td>156122.51</td>\n",
       "    </tr>\n",
       "    <tr>\n",
       "      <th>7</th>\n",
       "      <td>130298.13</td>\n",
       "      <td>323876.68</td>\n",
       "      <td>155752.60</td>\n",
       "    </tr>\n",
       "    <tr>\n",
       "      <th>8</th>\n",
       "      <td>120542.52</td>\n",
       "      <td>311613.29</td>\n",
       "      <td>152211.77</td>\n",
       "    </tr>\n",
       "    <tr>\n",
       "      <th>9</th>\n",
       "      <td>123334.88</td>\n",
       "      <td>304981.62</td>\n",
       "      <td>149759.96</td>\n",
       "    </tr>\n",
       "    <tr>\n",
       "      <th>10</th>\n",
       "      <td>101913.08</td>\n",
       "      <td>229160.95</td>\n",
       "      <td>146121.95</td>\n",
       "    </tr>\n",
       "    <tr>\n",
       "      <th>11</th>\n",
       "      <td>100671.96</td>\n",
       "      <td>249744.55</td>\n",
       "      <td>144259.40</td>\n",
       "    </tr>\n",
       "    <tr>\n",
       "      <th>12</th>\n",
       "      <td>93863.75</td>\n",
       "      <td>249839.44</td>\n",
       "      <td>141585.52</td>\n",
       "    </tr>\n",
       "    <tr>\n",
       "      <th>13</th>\n",
       "      <td>91992.39</td>\n",
       "      <td>252664.93</td>\n",
       "      <td>134307.35</td>\n",
       "    </tr>\n",
       "    <tr>\n",
       "      <th>14</th>\n",
       "      <td>119943.24</td>\n",
       "      <td>256512.92</td>\n",
       "      <td>132602.65</td>\n",
       "    </tr>\n",
       "    <tr>\n",
       "      <th>15</th>\n",
       "      <td>114523.61</td>\n",
       "      <td>261776.23</td>\n",
       "      <td>129917.04</td>\n",
       "    </tr>\n",
       "    <tr>\n",
       "      <th>16</th>\n",
       "      <td>78013.11</td>\n",
       "      <td>264346.06</td>\n",
       "      <td>126992.93</td>\n",
       "    </tr>\n",
       "    <tr>\n",
       "      <th>17</th>\n",
       "      <td>94657.16</td>\n",
       "      <td>282574.31</td>\n",
       "      <td>125370.37</td>\n",
       "    </tr>\n",
       "    <tr>\n",
       "      <th>18</th>\n",
       "      <td>91749.16</td>\n",
       "      <td>294919.57</td>\n",
       "      <td>124266.90</td>\n",
       "    </tr>\n",
       "    <tr>\n",
       "      <th>20</th>\n",
       "      <td>76253.86</td>\n",
       "      <td>298664.47</td>\n",
       "      <td>118474.03</td>\n",
       "    </tr>\n",
       "    <tr>\n",
       "      <th>21</th>\n",
       "      <td>78389.47</td>\n",
       "      <td>299737.29</td>\n",
       "      <td>111313.02</td>\n",
       "    </tr>\n",
       "    <tr>\n",
       "      <th>22</th>\n",
       "      <td>73994.56</td>\n",
       "      <td>303319.26</td>\n",
       "      <td>110352.25</td>\n",
       "    </tr>\n",
       "    <tr>\n",
       "      <th>23</th>\n",
       "      <td>67532.53</td>\n",
       "      <td>304768.73</td>\n",
       "      <td>108733.99</td>\n",
       "    </tr>\n",
       "    <tr>\n",
       "      <th>24</th>\n",
       "      <td>77044.01</td>\n",
       "      <td>140574.81</td>\n",
       "      <td>108552.04</td>\n",
       "    </tr>\n",
       "    <tr>\n",
       "      <th>25</th>\n",
       "      <td>64664.71</td>\n",
       "      <td>137962.62</td>\n",
       "      <td>107404.34</td>\n",
       "    </tr>\n",
       "    <tr>\n",
       "      <th>26</th>\n",
       "      <td>75328.87</td>\n",
       "      <td>134050.07</td>\n",
       "      <td>105733.54</td>\n",
       "    </tr>\n",
       "    <tr>\n",
       "      <th>27</th>\n",
       "      <td>72107.60</td>\n",
       "      <td>353183.81</td>\n",
       "      <td>105008.31</td>\n",
       "    </tr>\n",
       "    <tr>\n",
       "      <th>28</th>\n",
       "      <td>66051.52</td>\n",
       "      <td>118148.20</td>\n",
       "      <td>103282.38</td>\n",
       "    </tr>\n",
       "    <tr>\n",
       "      <th>29</th>\n",
       "      <td>65605.48</td>\n",
       "      <td>107138.38</td>\n",
       "      <td>101004.64</td>\n",
       "    </tr>\n",
       "    <tr>\n",
       "      <th>30</th>\n",
       "      <td>61994.48</td>\n",
       "      <td>91131.24</td>\n",
       "      <td>99937.59</td>\n",
       "    </tr>\n",
       "    <tr>\n",
       "      <th>31</th>\n",
       "      <td>61136.38</td>\n",
       "      <td>88218.23</td>\n",
       "      <td>97483.56</td>\n",
       "    </tr>\n",
       "    <tr>\n",
       "      <th>32</th>\n",
       "      <td>63408.86</td>\n",
       "      <td>46085.25</td>\n",
       "      <td>97427.84</td>\n",
       "    </tr>\n",
       "    <tr>\n",
       "      <th>33</th>\n",
       "      <td>55493.95</td>\n",
       "      <td>214634.81</td>\n",
       "      <td>96778.92</td>\n",
       "    </tr>\n",
       "    <tr>\n",
       "      <th>34</th>\n",
       "      <td>46426.07</td>\n",
       "      <td>210797.67</td>\n",
       "      <td>96712.80</td>\n",
       "    </tr>\n",
       "    <tr>\n",
       "      <th>35</th>\n",
       "      <td>46014.02</td>\n",
       "      <td>205517.64</td>\n",
       "      <td>96479.51</td>\n",
       "    </tr>\n",
       "    <tr>\n",
       "      <th>36</th>\n",
       "      <td>28663.76</td>\n",
       "      <td>201126.82</td>\n",
       "      <td>90708.19</td>\n",
       "    </tr>\n",
       "    <tr>\n",
       "      <th>37</th>\n",
       "      <td>44069.95</td>\n",
       "      <td>197029.42</td>\n",
       "      <td>89949.14</td>\n",
       "    </tr>\n",
       "    <tr>\n",
       "      <th>38</th>\n",
       "      <td>20229.59</td>\n",
       "      <td>185265.10</td>\n",
       "      <td>81229.06</td>\n",
       "    </tr>\n",
       "    <tr>\n",
       "      <th>39</th>\n",
       "      <td>38558.51</td>\n",
       "      <td>174999.30</td>\n",
       "      <td>81005.76</td>\n",
       "    </tr>\n",
       "    <tr>\n",
       "      <th>40</th>\n",
       "      <td>28754.33</td>\n",
       "      <td>172795.67</td>\n",
       "      <td>78239.91</td>\n",
       "    </tr>\n",
       "    <tr>\n",
       "      <th>41</th>\n",
       "      <td>27892.92</td>\n",
       "      <td>164470.71</td>\n",
       "      <td>77798.83</td>\n",
       "    </tr>\n",
       "    <tr>\n",
       "      <th>42</th>\n",
       "      <td>23640.93</td>\n",
       "      <td>148001.11</td>\n",
       "      <td>71498.49</td>\n",
       "    </tr>\n",
       "    <tr>\n",
       "      <th>43</th>\n",
       "      <td>15505.73</td>\n",
       "      <td>35534.17</td>\n",
       "      <td>69758.98</td>\n",
       "    </tr>\n",
       "    <tr>\n",
       "      <th>44</th>\n",
       "      <td>22177.74</td>\n",
       "      <td>28334.72</td>\n",
       "      <td>65200.33</td>\n",
       "    </tr>\n",
       "    <tr>\n",
       "      <th>45</th>\n",
       "      <td>1000.23</td>\n",
       "      <td>1903.93</td>\n",
       "      <td>64926.08</td>\n",
       "    </tr>\n",
       "    <tr>\n",
       "      <th>46</th>\n",
       "      <td>1315.46</td>\n",
       "      <td>297114.46</td>\n",
       "      <td>49490.75</td>\n",
       "    </tr>\n",
       "  </tbody>\n",
       "</table>\n",
       "</div>"
      ],
      "text/plain": [
       "    R&D Spend  Marketing Spend     Profit\n",
       "0   165349.20        471784.10  192261.83\n",
       "1   162597.70        443898.53  191792.06\n",
       "2   153441.51        407934.54  191050.39\n",
       "3   144372.41        383199.62  182901.99\n",
       "4   142107.34        366168.42  166187.94\n",
       "5   131876.90        362861.36  156991.12\n",
       "6   134615.46        127716.82  156122.51\n",
       "7   130298.13        323876.68  155752.60\n",
       "8   120542.52        311613.29  152211.77\n",
       "9   123334.88        304981.62  149759.96\n",
       "10  101913.08        229160.95  146121.95\n",
       "11  100671.96        249744.55  144259.40\n",
       "12   93863.75        249839.44  141585.52\n",
       "13   91992.39        252664.93  134307.35\n",
       "14  119943.24        256512.92  132602.65\n",
       "15  114523.61        261776.23  129917.04\n",
       "16   78013.11        264346.06  126992.93\n",
       "17   94657.16        282574.31  125370.37\n",
       "18   91749.16        294919.57  124266.90\n",
       "20   76253.86        298664.47  118474.03\n",
       "21   78389.47        299737.29  111313.02\n",
       "22   73994.56        303319.26  110352.25\n",
       "23   67532.53        304768.73  108733.99\n",
       "24   77044.01        140574.81  108552.04\n",
       "25   64664.71        137962.62  107404.34\n",
       "26   75328.87        134050.07  105733.54\n",
       "27   72107.60        353183.81  105008.31\n",
       "28   66051.52        118148.20  103282.38\n",
       "29   65605.48        107138.38  101004.64\n",
       "30   61994.48         91131.24   99937.59\n",
       "31   61136.38         88218.23   97483.56\n",
       "32   63408.86         46085.25   97427.84\n",
       "33   55493.95        214634.81   96778.92\n",
       "34   46426.07        210797.67   96712.80\n",
       "35   46014.02        205517.64   96479.51\n",
       "36   28663.76        201126.82   90708.19\n",
       "37   44069.95        197029.42   89949.14\n",
       "38   20229.59        185265.10   81229.06\n",
       "39   38558.51        174999.30   81005.76\n",
       "40   28754.33        172795.67   78239.91\n",
       "41   27892.92        164470.71   77798.83\n",
       "42   23640.93        148001.11   71498.49\n",
       "43   15505.73         35534.17   69758.98\n",
       "44   22177.74         28334.72   65200.33\n",
       "45    1000.23          1903.93   64926.08\n",
       "46    1315.46        297114.46   49490.75"
      ]
     },
     "execution_count": 89,
     "metadata": {},
     "output_type": "execute_result"
    }
   ],
   "source": [
    "df.head(50)"
   ]
  },
  {
   "cell_type": "code",
   "execution_count": 85,
   "id": "b6019b4e",
   "metadata": {},
   "outputs": [
    {
     "data": {
      "application/vnd.plotly.v1+json": {
       "config": {
        "plotlyServerURL": "https://plot.ly"
       },
       "data": [
        {
         "hovertemplate": "Data=Real<br>R&D Spend=%{x}<br>Marketing Spend=%{y}<br>Profit=%{z}<extra></extra>",
         "legendgroup": "Real",
         "marker": {
          "color": "#000036",
          "size": 5,
          "symbol": "circle"
         },
         "mode": "markers",
         "name": "Real",
         "scene": "scene",
         "showlegend": true,
         "type": "scatter3d",
         "x": {
          "bdata": "mpmZmSkvBEGamZmZLdkDQUjhehQMuwJBexSuR6OfAUGF61G42lgBQTMzMzMnGQBB4XoUrrtuAEFI4XoUos//QB+F61Hobf1ASOF6FG4c/kB7FK5HkeH4QMP1KFz/k/hAAAAAAHzq9kDXo3A9hnX2QHE9CtdzSP1AKVyPwrn1+0ApXI/C0QvzQPYoXI8SHPdA9ihcj1Jm9kApXI/C3Z3yQFK4HoVXI/NAXI/C9agQ8kCuR+F6yHzwQI/C9ShAz/JAhetRuBaT70C4HoXrDWTyQJqZmZm5mvFAH4XrUTgg8EDhehSuVwTwQMP1KFxPRe5Aj8L1KAza7UBSuB6FG/buQGZmZma+GOtA16NwPUKr5kA9CtejwHfmQD0K16Pw/dtAZmZmZr6E5UApXI/CZcHTQB+F61HQ0+JA7FG4HpUU3EAUrkfhOj3bQFK4HoU7FtdACtejcN1IzkDD9Shcb6jVQKRwPQrXQY9ApHA9CteNlEA=",
          "dtype": "f8"
         },
         "y": {
          "bdata": "ZmZmZqDLHEHsUbge6hcbQY/C9Sj65RhBrkfhen5jF0HhehSuYVkWQQrXo3C1JRZB7FG4Hk0u/0CF61G4ksQTQY/C9Sj1BBNBrkfheladEkGamZmZR/kLQWZmZmaEfA5BUrgehXt/DkEK16Nwx9cOQcP1KFwHUA9BcT0K14H0D0HXo3A9aCIQQdejcD05PxFBexSuRx4AEkEUrkfhoToSQY/C9ShlSxJBpHA9Cl2DEkG4HoXrApoSQa5H4Xr2KAFBXI/C9VTXAEH2KFyPEF0AQdejcD1/jhVBMzMzM0PY/EBI4XoUJij6QHE9CtezP/ZA4XoUrqOJ9UAAAAAAqIDmQK5H4XpWMwpBw/UoXG27CUHsUbgebRYJQfYoXI82jQhBw/UoXCsNCEHNzMzMiJ0GQWZmZma6XAVBw/UoXN0XBUHhehSutRMEQRSuR+EIEQJBCtejcMVZ4UBI4XoUrqvbQB+F61G4v51AcT0K12kiEkE=",
          "dtype": "f8"
         },
         "z": {
          "bdata": "PQrXoy54B0GuR+F6gGkHQexRuB5TUgdBuB6F669TBkFSuB6FX0kEQVyPwvX4KQNBSOF6FNQOA0HNzMzMRAMDQY/C9SielAJB4XoUrv9HAkGamZmZT9YBQTMzMzMbnAFBj8L1KIxIAUHNzMzMGmUAQTMzMzPVLwBBPQrXo9C3/0AUrkfhDgH/QLgeheulm/5AZmZmZq5W/kCuR+F6oOz8QB+F61EQLftAAAAAAATx+kBxPQrX34v6QD0K16OAgPpACtejcMU4+kA9CtejWND5QFyPwvUEo/lASOF6FCY3+UDXo3A9yqj4QArXo3AZZvhAXI/C9bjM90AK16NwPcn3QIXrUbiuoPdAzczMzIyc90CPwvUo+I33QKRwPQpDJfZA16NwPdL19UBcj8L10NTzQI/C9SjcxvNA9ihcj/4Z80B7FK5Hbf7yQHE9CtendPFA4XoUru8H8UD2KFyPCtbvQPYoXI/Cs+9AAAAAAFgq6EA=",
          "dtype": "f8"
         }
        }
       ],
       "layout": {
        "font": {
         "size": 18
        },
        "legend": {
         "title": {
          "text": "Data"
         },
         "tracegroupgap": 0
        },
        "margin": {
         "t": 60
        },
        "plot_bgcolor": "#F5F5F8",
        "scene": {
         "domain": {
          "x": [
           0,
           1
          ],
          "y": [
           0,
           1
          ]
         },
         "xaxis": {
          "title": {
           "text": "R&D Spend"
          }
         },
         "yaxis": {
          "title": {
           "text": "Marketing Spend"
          }
         },
         "zaxis": {
          "title": {
           "text": "Profit"
          }
         }
        },
        "showlegend": false,
        "template": {
         "data": {
          "bar": [
           {
            "error_x": {
             "color": "#2a3f5f"
            },
            "error_y": {
             "color": "#2a3f5f"
            },
            "marker": {
             "line": {
              "color": "#E5ECF6",
              "width": 0.5
             },
             "pattern": {
              "fillmode": "overlay",
              "size": 10,
              "solidity": 0.2
             }
            },
            "type": "bar"
           }
          ],
          "barpolar": [
           {
            "marker": {
             "line": {
              "color": "#E5ECF6",
              "width": 0.5
             },
             "pattern": {
              "fillmode": "overlay",
              "size": 10,
              "solidity": 0.2
             }
            },
            "type": "barpolar"
           }
          ],
          "carpet": [
           {
            "aaxis": {
             "endlinecolor": "#2a3f5f",
             "gridcolor": "white",
             "linecolor": "white",
             "minorgridcolor": "white",
             "startlinecolor": "#2a3f5f"
            },
            "baxis": {
             "endlinecolor": "#2a3f5f",
             "gridcolor": "white",
             "linecolor": "white",
             "minorgridcolor": "white",
             "startlinecolor": "#2a3f5f"
            },
            "type": "carpet"
           }
          ],
          "choropleth": [
           {
            "colorbar": {
             "outlinewidth": 0,
             "ticks": ""
            },
            "type": "choropleth"
           }
          ],
          "contour": [
           {
            "colorbar": {
             "outlinewidth": 0,
             "ticks": ""
            },
            "colorscale": [
             [
              0,
              "#0d0887"
             ],
             [
              0.1111111111111111,
              "#46039f"
             ],
             [
              0.2222222222222222,
              "#7201a8"
             ],
             [
              0.3333333333333333,
              "#9c179e"
             ],
             [
              0.4444444444444444,
              "#bd3786"
             ],
             [
              0.5555555555555556,
              "#d8576b"
             ],
             [
              0.6666666666666666,
              "#ed7953"
             ],
             [
              0.7777777777777778,
              "#fb9f3a"
             ],
             [
              0.8888888888888888,
              "#fdca26"
             ],
             [
              1,
              "#f0f921"
             ]
            ],
            "type": "contour"
           }
          ],
          "contourcarpet": [
           {
            "colorbar": {
             "outlinewidth": 0,
             "ticks": ""
            },
            "type": "contourcarpet"
           }
          ],
          "heatmap": [
           {
            "colorbar": {
             "outlinewidth": 0,
             "ticks": ""
            },
            "colorscale": [
             [
              0,
              "#0d0887"
             ],
             [
              0.1111111111111111,
              "#46039f"
             ],
             [
              0.2222222222222222,
              "#7201a8"
             ],
             [
              0.3333333333333333,
              "#9c179e"
             ],
             [
              0.4444444444444444,
              "#bd3786"
             ],
             [
              0.5555555555555556,
              "#d8576b"
             ],
             [
              0.6666666666666666,
              "#ed7953"
             ],
             [
              0.7777777777777778,
              "#fb9f3a"
             ],
             [
              0.8888888888888888,
              "#fdca26"
             ],
             [
              1,
              "#f0f921"
             ]
            ],
            "type": "heatmap"
           }
          ],
          "histogram": [
           {
            "marker": {
             "pattern": {
              "fillmode": "overlay",
              "size": 10,
              "solidity": 0.2
             }
            },
            "type": "histogram"
           }
          ],
          "histogram2d": [
           {
            "colorbar": {
             "outlinewidth": 0,
             "ticks": ""
            },
            "colorscale": [
             [
              0,
              "#0d0887"
             ],
             [
              0.1111111111111111,
              "#46039f"
             ],
             [
              0.2222222222222222,
              "#7201a8"
             ],
             [
              0.3333333333333333,
              "#9c179e"
             ],
             [
              0.4444444444444444,
              "#bd3786"
             ],
             [
              0.5555555555555556,
              "#d8576b"
             ],
             [
              0.6666666666666666,
              "#ed7953"
             ],
             [
              0.7777777777777778,
              "#fb9f3a"
             ],
             [
              0.8888888888888888,
              "#fdca26"
             ],
             [
              1,
              "#f0f921"
             ]
            ],
            "type": "histogram2d"
           }
          ],
          "histogram2dcontour": [
           {
            "colorbar": {
             "outlinewidth": 0,
             "ticks": ""
            },
            "colorscale": [
             [
              0,
              "#0d0887"
             ],
             [
              0.1111111111111111,
              "#46039f"
             ],
             [
              0.2222222222222222,
              "#7201a8"
             ],
             [
              0.3333333333333333,
              "#9c179e"
             ],
             [
              0.4444444444444444,
              "#bd3786"
             ],
             [
              0.5555555555555556,
              "#d8576b"
             ],
             [
              0.6666666666666666,
              "#ed7953"
             ],
             [
              0.7777777777777778,
              "#fb9f3a"
             ],
             [
              0.8888888888888888,
              "#fdca26"
             ],
             [
              1,
              "#f0f921"
             ]
            ],
            "type": "histogram2dcontour"
           }
          ],
          "mesh3d": [
           {
            "colorbar": {
             "outlinewidth": 0,
             "ticks": ""
            },
            "type": "mesh3d"
           }
          ],
          "parcoords": [
           {
            "line": {
             "colorbar": {
              "outlinewidth": 0,
              "ticks": ""
             }
            },
            "type": "parcoords"
           }
          ],
          "pie": [
           {
            "automargin": true,
            "type": "pie"
           }
          ],
          "scatter": [
           {
            "fillpattern": {
             "fillmode": "overlay",
             "size": 10,
             "solidity": 0.2
            },
            "type": "scatter"
           }
          ],
          "scatter3d": [
           {
            "line": {
             "colorbar": {
              "outlinewidth": 0,
              "ticks": ""
             }
            },
            "marker": {
             "colorbar": {
              "outlinewidth": 0,
              "ticks": ""
             }
            },
            "type": "scatter3d"
           }
          ],
          "scattercarpet": [
           {
            "marker": {
             "colorbar": {
              "outlinewidth": 0,
              "ticks": ""
             }
            },
            "type": "scattercarpet"
           }
          ],
          "scattergeo": [
           {
            "marker": {
             "colorbar": {
              "outlinewidth": 0,
              "ticks": ""
             }
            },
            "type": "scattergeo"
           }
          ],
          "scattergl": [
           {
            "marker": {
             "colorbar": {
              "outlinewidth": 0,
              "ticks": ""
             }
            },
            "type": "scattergl"
           }
          ],
          "scattermap": [
           {
            "marker": {
             "colorbar": {
              "outlinewidth": 0,
              "ticks": ""
             }
            },
            "type": "scattermap"
           }
          ],
          "scattermapbox": [
           {
            "marker": {
             "colorbar": {
              "outlinewidth": 0,
              "ticks": ""
             }
            },
            "type": "scattermapbox"
           }
          ],
          "scatterpolar": [
           {
            "marker": {
             "colorbar": {
              "outlinewidth": 0,
              "ticks": ""
             }
            },
            "type": "scatterpolar"
           }
          ],
          "scatterpolargl": [
           {
            "marker": {
             "colorbar": {
              "outlinewidth": 0,
              "ticks": ""
             }
            },
            "type": "scatterpolargl"
           }
          ],
          "scatterternary": [
           {
            "marker": {
             "colorbar": {
              "outlinewidth": 0,
              "ticks": ""
             }
            },
            "type": "scatterternary"
           }
          ],
          "surface": [
           {
            "colorbar": {
             "outlinewidth": 0,
             "ticks": ""
            },
            "colorscale": [
             [
              0,
              "#0d0887"
             ],
             [
              0.1111111111111111,
              "#46039f"
             ],
             [
              0.2222222222222222,
              "#7201a8"
             ],
             [
              0.3333333333333333,
              "#9c179e"
             ],
             [
              0.4444444444444444,
              "#bd3786"
             ],
             [
              0.5555555555555556,
              "#d8576b"
             ],
             [
              0.6666666666666666,
              "#ed7953"
             ],
             [
              0.7777777777777778,
              "#fb9f3a"
             ],
             [
              0.8888888888888888,
              "#fdca26"
             ],
             [
              1,
              "#f0f921"
             ]
            ],
            "type": "surface"
           }
          ],
          "table": [
           {
            "cells": {
             "fill": {
              "color": "#EBF0F8"
             },
             "line": {
              "color": "white"
             }
            },
            "header": {
             "fill": {
              "color": "#C8D4E3"
             },
             "line": {
              "color": "white"
             }
            },
            "type": "table"
           }
          ]
         },
         "layout": {
          "annotationdefaults": {
           "arrowcolor": "#2a3f5f",
           "arrowhead": 0,
           "arrowwidth": 1
          },
          "autotypenumbers": "strict",
          "coloraxis": {
           "colorbar": {
            "outlinewidth": 0,
            "ticks": ""
           }
          },
          "colorscale": {
           "diverging": [
            [
             0,
             "#8e0152"
            ],
            [
             0.1,
             "#c51b7d"
            ],
            [
             0.2,
             "#de77ae"
            ],
            [
             0.3,
             "#f1b6da"
            ],
            [
             0.4,
             "#fde0ef"
            ],
            [
             0.5,
             "#f7f7f7"
            ],
            [
             0.6,
             "#e6f5d0"
            ],
            [
             0.7,
             "#b8e186"
            ],
            [
             0.8,
             "#7fbc41"
            ],
            [
             0.9,
             "#4d9221"
            ],
            [
             1,
             "#276419"
            ]
           ],
           "sequential": [
            [
             0,
             "#0d0887"
            ],
            [
             0.1111111111111111,
             "#46039f"
            ],
            [
             0.2222222222222222,
             "#7201a8"
            ],
            [
             0.3333333333333333,
             "#9c179e"
            ],
            [
             0.4444444444444444,
             "#bd3786"
            ],
            [
             0.5555555555555556,
             "#d8576b"
            ],
            [
             0.6666666666666666,
             "#ed7953"
            ],
            [
             0.7777777777777778,
             "#fb9f3a"
            ],
            [
             0.8888888888888888,
             "#fdca26"
            ],
            [
             1,
             "#f0f921"
            ]
           ],
           "sequentialminus": [
            [
             0,
             "#0d0887"
            ],
            [
             0.1111111111111111,
             "#46039f"
            ],
            [
             0.2222222222222222,
             "#7201a8"
            ],
            [
             0.3333333333333333,
             "#9c179e"
            ],
            [
             0.4444444444444444,
             "#bd3786"
            ],
            [
             0.5555555555555556,
             "#d8576b"
            ],
            [
             0.6666666666666666,
             "#ed7953"
            ],
            [
             0.7777777777777778,
             "#fb9f3a"
            ],
            [
             0.8888888888888888,
             "#fdca26"
            ],
            [
             1,
             "#f0f921"
            ]
           ]
          },
          "colorway": [
           "#636efa",
           "#EF553B",
           "#00cc96",
           "#ab63fa",
           "#FFA15A",
           "#19d3f3",
           "#FF6692",
           "#B6E880",
           "#FF97FF",
           "#FECB52"
          ],
          "font": {
           "color": "#2a3f5f"
          },
          "geo": {
           "bgcolor": "white",
           "lakecolor": "white",
           "landcolor": "#E5ECF6",
           "showlakes": true,
           "showland": true,
           "subunitcolor": "white"
          },
          "hoverlabel": {
           "align": "left"
          },
          "hovermode": "closest",
          "mapbox": {
           "style": "light"
          },
          "paper_bgcolor": "white",
          "plot_bgcolor": "#E5ECF6",
          "polar": {
           "angularaxis": {
            "gridcolor": "white",
            "linecolor": "white",
            "ticks": ""
           },
           "bgcolor": "#E5ECF6",
           "radialaxis": {
            "gridcolor": "white",
            "linecolor": "white",
            "ticks": ""
           }
          },
          "scene": {
           "xaxis": {
            "backgroundcolor": "#E5ECF6",
            "gridcolor": "white",
            "gridwidth": 2,
            "linecolor": "white",
            "showbackground": true,
            "ticks": "",
            "zerolinecolor": "white"
           },
           "yaxis": {
            "backgroundcolor": "#E5ECF6",
            "gridcolor": "white",
            "gridwidth": 2,
            "linecolor": "white",
            "showbackground": true,
            "ticks": "",
            "zerolinecolor": "white"
           },
           "zaxis": {
            "backgroundcolor": "#E5ECF6",
            "gridcolor": "white",
            "gridwidth": 2,
            "linecolor": "white",
            "showbackground": true,
            "ticks": "",
            "zerolinecolor": "white"
           }
          },
          "shapedefaults": {
           "line": {
            "color": "#2a3f5f"
           }
          },
          "ternary": {
           "aaxis": {
            "gridcolor": "white",
            "linecolor": "white",
            "ticks": ""
           },
           "baxis": {
            "gridcolor": "white",
            "linecolor": "white",
            "ticks": ""
           },
           "bgcolor": "#E5ECF6",
           "caxis": {
            "gridcolor": "white",
            "linecolor": "white",
            "ticks": ""
           }
          },
          "title": {
           "x": 0.05
          },
          "xaxis": {
           "automargin": true,
           "gridcolor": "white",
           "linecolor": "white",
           "ticks": "",
           "title": {
            "standoff": 15
           },
           "zerolinecolor": "white",
           "zerolinewidth": 2
          },
          "yaxis": {
           "automargin": true,
           "gridcolor": "white",
           "linecolor": "white",
           "ticks": "",
           "title": {
            "standoff": 15
           },
           "zerolinecolor": "white",
           "zerolinewidth": 2
          }
         }
        },
        "title": {
         "text": "Copula Gaussiana — U1–U2–U3"
        }
       }
      }
     },
     "metadata": {},
     "output_type": "display_data"
    }
   ],
   "source": [
    "# ---- 3D: comparar dos muestras en (U1, U2, U3)\n",
    "# fig3d = compare_3d(dfU_real, dfU_synth, columns=['U1','U2','U3'], title='Comparación 3D: U1–U2–U3')\n",
    "# fig3d.show()\n",
    "\n",
    "# ---- 3D: una sola muestra\n",
    "fig3d_single = scatter_3d(df, columns=['R&D Spend','Marketing Spend', 'Profit'], title='Copula Gaussiana — U1–U2–U3')\n",
    "fig3d_single.show()\n"
   ]
  },
  {
   "cell_type": "code",
   "execution_count": 91,
   "id": "5fe71d15",
   "metadata": {},
   "outputs": [
    {
     "data": {
      "image/png": "[encoded data removed]",
      "text/plain": [
       "<Figure size 1000x800 with 4 Axes>"
      ]
     },
     "metadata": {},
     "output_type": "display_data"
    },
    {
     "data": {
      "image/png": "[encoded data removed]",
      "text/plain": [
       "<Figure size 1800x500 with 2 Axes>"
      ]
     },
     "metadata": {},
     "output_type": "display_data"
    },
    {
     "data": {
      "image/png": "[encoded data removed]",
      "text/plain": [
       "<Figure size 750x750 with 12 Axes>"
      ]
     },
     "metadata": {},
     "output_type": "display_data"
    }
   ],
   "source": [
    "# Configuración de estilo\n",
    "sns.set(style=\"whitegrid\", palette=\"muted\", font_scale=1.1)\n",
    "\n",
    "# ==========================\n",
    "# 1. Histogramas de todas las variables\n",
    "# ==========================\n",
    "df.hist(bins=15, figsize=(10, 8), edgecolor=\"black\")\n",
    "plt.suptitle(\"Distribuciones de las variables\", fontsize=16)\n",
    "plt.tight_layout()\n",
    "plt.show()\n",
    "\n",
    "# ==========================\n",
    "# 2. Scatterplots: cada predictor vs Profit\n",
    "# ==========================\n",
    "fig, axes = plt.subplots(1, 2, figsize=(18, 5))\n",
    "\n",
    "for ax, col in zip(axes, [\"R&D Spend\", \"Marketing Spend\"]):\n",
    "    sns.scatterplot(data=df, x=col, y=\"Profit\", ax=ax, s=70, color=\"steelblue\", edgecolor=\"black\")\n",
    "    ax.set_title(f\"{col} vs Profit\")\n",
    "\n",
    "plt.suptitle(\"Relación entre variables independientes y Profit\", fontsize=16, y=1.05)\n",
    "plt.tight_layout()\n",
    "plt.show()\n",
    "\n",
    "# ==========================\n",
    "# 3. Opcional: Matriz de pares (pairplot)\n",
    "# ==========================\n",
    "sns.pairplot(df, diag_kind=\"kde\")\n",
    "plt.suptitle(\"Matriz de dispersión y distribuciones\", fontsize=16, y=1.02)\n",
    "plt.show()\n"
   ]
  },
  {
   "cell_type": "code",
   "execution_count": 92,
   "id": "5179da81",
   "metadata": {},
   "outputs": [
    {
     "name": "stdout",
     "output_type": "stream",
     "text": [
      "\n",
      "=== R&D Spend ===\n",
      "Shapiro-Wilk Normality Test: p-value = 0.3221\n",
      "Normal fit: mu=78241.72, sigma=43217.79\n",
      "Lognormal fit: shape=0.14, loc=-240770.94, scale=316094.63\n",
      "Exponencial fit: loc=1000.23, scale=77241.49\n",
      "Laplace fit: mu=74661.71, b=34926.97\n",
      "\n",
      "=== Marketing Spend ===\n",
      "Shapiro-Wilk Normality Test: p-value = 0.9115\n",
      "Normal fit: mu=228393.08, sigma=110119.86\n",
      "Lognormal fit: shape=0.00, loc=-2147481165.40, scale=2147709555.66\n",
      "Exponencial fit: loc=1903.93, scale=226489.15\n",
      "Laplace fit: mu=239452.75, b=90975.79\n",
      "\n",
      "=== Profit ===\n",
      "Shapiro-Wilk Normality Test: p-value = 0.1693\n",
      "Normal fit: mu=117063.93, sigma=35566.99\n",
      "Lognormal fit: shape=0.22, loc=-41388.33, scale=154529.04\n",
      "Exponencial fit: loc=49490.75, scale=67573.18\n",
      "Laplace fit: mu=108643.01, b=28559.10\n"
     ]
    }
   ],
   "source": [
    "import scipy.stats as st\n",
    "\n",
    "variables = [\"R&D Spend\", \"Marketing Spend\", \"Profit\"]\n",
    "\n",
    "for col in variables:\n",
    "    data = df[col]\n",
    "    print(f\"\\n=== {col} ===\")\n",
    "    \n",
    "    # Prueba de normalidad\n",
    "    stat, p = st.shapiro(data)\n",
    "    print(f\"Shapiro-Wilk Normality Test: p-value = {p:.4f}\")\n",
    "    \n",
    "    # Ajuste rápido a algunas distribuciones comunes\n",
    "    # Normal\n",
    "    mu, sigma = st.norm.fit(data)\n",
    "    print(f\"Normal fit: mu={mu:.2f}, sigma={sigma:.2f}\")\n",
    "    \n",
    "    # LogNormal\n",
    "    shape, loc, scale = st.lognorm.fit(data)\n",
    "    print(f\"Lognormal fit: shape={shape:.2f}, loc={loc:.2f}, scale={scale:.2f}\")\n",
    "    \n",
    "    # Exponencial\n",
    "    loc, scale = st.expon.fit(data)\n",
    "    print(f\"Exponencial fit: loc={loc:.2f}, scale={scale:.2f}\")\n",
    "\n",
    "        # Laplace (double exponential)\n",
    "    loc_lap, scale_lap = st.laplace.fit(data)\n",
    "    print(f\"Laplace fit: mu={loc_lap:.2f}, b={scale_lap:.2f}\")\n",
    "\n"
   ]
  },
  {
   "cell_type": "code",
   "execution_count": 93,
   "id": "848022a3",
   "metadata": {},
   "outputs": [
    {
     "data": {
      "image/png": "[encoded data removed]",
      "text/plain": [
       "<Figure size 800x500 with 1 Axes>"
      ]
     },
     "metadata": {},
     "output_type": "display_data"
    },
    {
     "data": {
      "image/png": "[encoded data removed]",
      "text/plain": [
       "<Figure size 800x500 with 1 Axes>"
      ]
     },
     "metadata": {},
     "output_type": "display_data"
    },
    {
     "data": {
      "image/png": "[encoded data removed]",
      "text/plain": [
       "<Figure size 800x500 with 1 Axes>"
      ]
     },
     "metadata": {},
     "output_type": "display_data"
    }
   ],
   "source": [
    "import numpy as np\n",
    "import matplotlib.pyplot as plt\n",
    "import scipy.stats as st\n",
    "\n",
    "variables = [\"R&D Spend\", \"Marketing Spend\", \"Profit\"]\n",
    "\n",
    "for col in variables:\n",
    "    data = df[col].values\n",
    "    x = np.linspace(data.min(), data.max(), 500)\n",
    "\n",
    "    # Ajustes\n",
    "    mu, sigma = st.norm.fit(data)\n",
    "    norm_pdf = st.norm.pdf(x, mu, sigma)\n",
    "\n",
    "    shape, loc, scale = st.lognorm.fit(data)\n",
    "    lognorm_pdf = st.lognorm.pdf(x, shape, loc, scale)\n",
    "\n",
    "    loc_exp, scale_exp = st.expon.fit(data)\n",
    "    expon_pdf = st.expon.pdf(x, loc_exp, scale_exp)\n",
    "\n",
    "    loc_lap, scale_lap = st.laplace.fit(data)\n",
    "    laplace_pdf = st.laplace.pdf(x, loc_lap, scale_lap)\n",
    "\n",
    "    # Gráfico\n",
    "    plt.figure(figsize=(8, 5))\n",
    "    plt.hist(data, bins=12, density=True, alpha=0.6, color=\"lightgray\", edgecolor=\"black\", label=\"Datos\")\n",
    "\n",
    "    plt.plot(x, norm_pdf, \"r-\", lw=2, label=f\"Normal\\nμ={mu:.0f}, σ={sigma:.0f}\")\n",
    "    plt.plot(x, lognorm_pdf, \"b--\", lw=2, label=\"Lognormal\")\n",
    "    plt.plot(x, expon_pdf, \"g-.\", lw=2, label=\"Exponencial\")\n",
    "    plt.plot(x, laplace_pdf, \"y-.\", lw=2, label=\"Laplace\")\n",
    "\n",
    "    plt.title(f\"Ajustes de distribución para {col}\")\n",
    "    plt.xlabel(col)\n",
    "    plt.ylabel(\"Densidad\")\n",
    "    plt.legend()\n",
    "    plt.tight_layout()\n",
    "    plt.show()\n"
   ]
  },
  {
   "cell_type": "code",
   "execution_count": 94,
   "id": "f6951c2b",
   "metadata": {},
   "outputs": [
    {
     "name": "stdout",
     "output_type": "stream",
     "text": [
      "\n",
      "=== R&D Spend ===\n",
      "Distribución | Log-verosimilitud\n",
      "Lognormal    |    -555.95\n",
      "Normal       |    -556.28\n",
      "Laplace      |    -559.09\n",
      "Exponential  |    -563.72\n",
      "\n",
      "=== Marketing Spend ===\n",
      "Distribución | Log-verosimilitud\n",
      "Normal       |    -599.30\n",
      "Lognormal    |    -599.30\n",
      "Laplace      |    -603.13\n",
      "Exponential  |    -613.20\n",
      "\n",
      "=== Profit ===\n",
      "Distribución | Log-verosimilitud\n",
      "Lognormal    |    -546.17\n",
      "Normal       |    -547.31\n",
      "Laplace      |    -549.83\n",
      "Exponential  |    -557.56\n"
     ]
    }
   ],
   "source": [
    "import numpy as np\n",
    "import scipy.stats as st\n",
    "\n",
    "variables = [\"R&D Spend\", \"Marketing Spend\", \"Profit\"]\n",
    "\n",
    "for col in variables:\n",
    "    data = df[col].values\n",
    "    print(f\"\\n=== {col} ===\")\n",
    "    results = []\n",
    "\n",
    "    # Normal\n",
    "    params_norm = st.norm.fit(data)\n",
    "    logL_norm = np.sum(st.norm.logpdf(data, *params_norm))\n",
    "    results.append((\"Normal\", logL_norm))\n",
    "\n",
    "    # Lognormal\n",
    "    params_logn = st.lognorm.fit(data)\n",
    "    logL_logn = np.sum(st.lognorm.logpdf(data, *params_logn))\n",
    "    results.append((\"Lognormal\", logL_logn))\n",
    "\n",
    "    # Exponential\n",
    "    params_exp = st.expon.fit(data)\n",
    "    logL_exp = np.sum(st.expon.logpdf(data, *params_exp))\n",
    "    results.append((\"Exponential\", logL_exp))\n",
    "\n",
    "    # Laplace\n",
    "    params_lap = st.laplace.fit(data)\n",
    "    logL_lap = np.sum(st.laplace.logpdf(data, *params_lap))\n",
    "    results.append((\"Laplace\", logL_lap))\n",
    "\n",
    "    # Mostrar ordenado\n",
    "    results_sorted = sorted(results, key=lambda x: x[1], reverse=True)\n",
    "    print(\"Distribución | Log-verosimilitud\")\n",
    "    for name, logL in results_sorted:\n",
    "        print(f\"{name:12s} | {logL:10.2f}\")\n"
   ]
  },
  {
   "cell_type": "markdown",
   "id": "a06887ac",
   "metadata": {},
   "source": []
  },
  {
   "cell_type": "code",
   "execution_count": 103,
   "id": "8f0e483e",
   "metadata": {},
   "outputs": [
    {
     "name": "stdout",
     "output_type": "stream",
     "text": [
      "R&D Spend (Lognormal) KS: D=0.0804, p=0.9045\n",
      "Marketing Spend (Normal) KS: D=0.0769, p=0.9293\n",
      "Profit (Lognormal) KS: D=0.0864, p=0.8535\n"
     ]
    }
   ],
   "source": [
    "from scipy import stats\n",
    "\n",
    "# R&D Spend ~ Lognormal\n",
    "x = df[\"R&D Spend\"].values\n",
    "shape, loc, scale = stats.lognorm.fit(x)\n",
    "D_rd, p_rd = stats.kstest(x, 'lognorm', args=(shape, loc, scale))\n",
    "print(f\"R&D Spend (Lognormal) KS: D={D_rd:.4f}, p={p_rd:.4f}\")\n",
    "\n",
    "# Marketing Spend ~ Normal\n",
    "x = df[\"Marketing Spend\"].values\n",
    "mu, sigma = stats.norm.fit(x)\n",
    "D_mk, p_mk = stats.kstest(x, 'norm', args=(mu, sigma))\n",
    "print(f\"Marketing Spend (Normal) KS: D={D_mk:.4f}, p={p_mk:.4f}\")\n",
    "\n",
    "# Profit ~ Normal\n",
    "x = df[\"Profit\"].values\n",
    "shape, loc, scale = stats.lognorm.fit(x)\n",
    "D_pr, p_pr = stats.kstest(x, 'lognorm', args=(shape, loc, scale))\n",
    "print(f\"Profit (Lognormal) KS: D={D_pr:.4f}, p={p_pr:.4f}\")"
   ]
  },
  {
   "cell_type": "code",
   "execution_count": 104,
   "id": "2dcb81fe",
   "metadata": {},
   "outputs": [
    {
     "data": {
      "application/vnd.plotly.v1+json": {
       "config": {
        "plotlyServerURL": "https://plot.ly"
       },
       "data": [
        {
         "hovertemplate": "Data=Real<br>R&D Spend=%{x}<br>Marketing Spend=%{y}<br>Profit=%{z}<extra></extra>",
         "legendgroup": "Real",
         "marker": {
          "color": "#000036",
          "size": 5,
          "symbol": "circle"
         },
         "mode": "markers",
         "name": "Real",
         "scene": "scene",
         "showlegend": true,
         "type": "scatter3d",
         "x": {
          "bdata": "mpmZmSkvBEGamZmZLdkDQUjhehQMuwJBexSuR6OfAUGF61G42lgBQTMzMzMnGQBB4XoUrrtuAEFI4XoUos//QB+F61Hobf1ASOF6FG4c/kB7FK5HkeH4QMP1KFz/k/hAAAAAAHzq9kDXo3A9hnX2QHE9CtdzSP1AKVyPwrn1+0ApXI/C0QvzQPYoXI8SHPdA9ihcj1Jm9kApXI/C3Z3yQFK4HoVXI/NAXI/C9agQ8kCuR+F6yHzwQI/C9ShAz/JAhetRuBaT70C4HoXrDWTyQJqZmZm5mvFAH4XrUTgg8EDhehSuVwTwQMP1KFxPRe5Aj8L1KAza7UBSuB6FG/buQGZmZma+GOtA16NwPUKr5kA9CtejwHfmQD0K16Pw/dtAZmZmZr6E5UApXI/CZcHTQB+F61HQ0+JA7FG4HpUU3EAUrkfhOj3bQFK4HoU7FtdACtejcN1IzkDD9Shcb6jVQKRwPQrXQY9ApHA9CteNlEA=",
          "dtype": "f8"
         },
         "y": {
          "bdata": "ZmZmZqDLHEHsUbge6hcbQY/C9Sj65RhBrkfhen5jF0HhehSuYVkWQQrXo3C1JRZB7FG4Hk0u/0CF61G4ksQTQY/C9Sj1BBNBrkfheladEkGamZmZR/kLQWZmZmaEfA5BUrgehXt/DkEK16Nwx9cOQcP1KFwHUA9BcT0K14H0D0HXo3A9aCIQQdejcD05PxFBexSuRx4AEkEUrkfhoToSQY/C9ShlSxJBpHA9Cl2DEkG4HoXrApoSQa5H4Xr2KAFBXI/C9VTXAEH2KFyPEF0AQdejcD1/jhVBMzMzM0PY/EBI4XoUJij6QHE9CtezP/ZA4XoUrqOJ9UAAAAAAqIDmQK5H4XpWMwpBw/UoXG27CUHsUbgebRYJQfYoXI82jQhBw/UoXCsNCEHNzMzMiJ0GQWZmZma6XAVBw/UoXN0XBUHhehSutRMEQRSuR+EIEQJBCtejcMVZ4UBI4XoUrqvbQB+F61G4v51AcT0K12kiEkE=",
          "dtype": "f8"
         },
         "z": {
          "bdata": "PQrXoy54B0GuR+F6gGkHQexRuB5TUgdBuB6F669TBkFSuB6FX0kEQVyPwvX4KQNBSOF6FNQOA0HNzMzMRAMDQY/C9SielAJB4XoUrv9HAkGamZmZT9YBQTMzMzMbnAFBj8L1KIxIAUHNzMzMGmUAQTMzMzPVLwBBPQrXo9C3/0AUrkfhDgH/QLgeheulm/5AZmZmZq5W/kCuR+F6oOz8QB+F61EQLftAAAAAAATx+kBxPQrX34v6QD0K16OAgPpACtejcMU4+kA9CtejWND5QFyPwvUEo/lASOF6FCY3+UDXo3A9yqj4QArXo3AZZvhAXI/C9bjM90AK16NwPcn3QIXrUbiuoPdAzczMzIyc90CPwvUo+I33QKRwPQpDJfZA16NwPdL19UBcj8L10NTzQI/C9SjcxvNA9ihcj/4Z80B7FK5Hbf7yQHE9CtendPFA4XoUru8H8UD2KFyPCtbvQPYoXI/Cs+9AAAAAAFgq6EA=",
          "dtype": "f8"
         }
        },
        {
         "hovertemplate": "Data=Synthetic<br>R&D Spend=%{x}<br>Marketing Spend=%{y}<br>Profit=%{z}<extra></extra>",
         "legendgroup": "Synthetic",
         "marker": {
          "color": "#01E0C9",
          "size": 5,
          "symbol": "diamond"
         },
         "mode": "markers",
         "name": "Synthetic",
         "scene": "scene",
         "showlegend": true,
         "type": "scatter3d",
         "x": {
          "bdata": "oanpoSR4+UBmsyCqKE70QD3U53xzVvNAsh5dj2rO80A7MDPYUxryQDCk14MKvuJA815jgCqZ8kBRtw60CSz3QDoABFaWWvxA26Ahwxw69kCwhJ53hb39QDiURo7ewANBepR2x6Ok/EDqGwrKyMn1QJZGPGxd8vFARKvTg+26AEGCJU71qrUBQSAmV8KV1gBBmESeKr75+0AgJhZJNmeqwOaIW76GivBAPmMUbsDg6kB6SkFWy47ZQFEU0xAe5eFAs+YuHO/880BK9fxk0X4DQaF78UlSHP1Ah05Mu7Y140ALhEZgTnfxQD/yQroOU/dAILvHwnWJ+kD45oBhlcfbQHxnAeTWM/pAQIDLP4EhpUDg1HO578G3QO3mPQRf8PVAwaw4q9a28kCbgAl9RDnyQGbCLkXN6fZA2xlCylYA90CZRpKOEd/tQDpQje1WT9FAtd4NjLce9ECIwk5+gOMDQcC6U0lehAhBBbxs0DXc9kCo7usfJgPtQIr/uNbsWd1AeitridCD4kAcWTEDqD3TQA==",
          "dtype": "f8"
         },
         "y": {
          "bdata": "UwRf8t1Z+0Cp0mxWQkIPQR6WB1m6NA9BNoY695biEkG5srzlfDsJQceJd0ysJ/pABM1X7oFHFUH5McCjfB8RQZyCVMtjMBVBH+0qkQxvBkHkq9MA/qMOQVIE1Do8uh1B8HkNeqQgGEG7NQsD55EQQbBlQRmynvxAJIVag+osGkHa6m2d4BcYQbUKHXM8YRdBmE4CC/ExE0GAzSqgbvf5wD3XkdHrPgVBUL45kEEy00CCCROWvasFQbZeyFCE0QRB39ywf79cEUHedXr8jnwUQbRKnqAzRxhBFeHnvjPT+0CkzEIZpY0FQU2lVTSqKg1BPFH2YdzIEkFpFypRBGMIQW/yDk1PHwhBSsyBsjlLBUGoIpgMav/0QJzp6RwtlRNBStzIAb1QEUFl9ZqthnYDQcIdkHm/ahhBgLzMdXSFE0FFmRqcRDISQcA5c8w+w/ZAxWVOUEadC0FFOJITW1kcQeIKpcFS5iBBPc13pbXYFEGQDimMEXLqQJBQtWoCDQlBISyQzaDbBkFkHYkUZ60GQQ==",
          "dtype": "f8"
         },
         "z": {
          "bdata": "7XjHDTpQAUH3g89u6kb+QEwwicRNYfxAqqkihmpt/kAXdjhOt2X6QN+mJIvZj/RAXz3N4PJ2/EAmItB9UDQCQY1t0oVWyQFBTh5GrBY0AEEfZ10LRZoBQRYHRRVGFQdBEOgDfwv1AUG5HH6hkKMAQRKfhgvmVftAT7naS6PwA0F/z3EkPg4EQVUfle599AJBuAi2ec1RAUGgZMU+2LPtQBBAmpNOhfhAOZQJ5jU/9kBwk+MHwKrwQARWnbvI1vNAqAZ430bp+0CyXpEOjgYGQVY+w1Fh4QNBVlsoh5yb8EBF4EmgIrf5QCROsStXtABBc/9HWcRrAkHOJUNoyijyQFu5iiWURQBBRLqbU1ds7UBwb5gXHMLrQM0pOKpQVP1Aj4XSv0lc/kC2TfVcPlf8QBanDgbVn/9AuiZipijNAEHvJtn0Heb4QN6/rU7Ms/BA6uNZkfn5+kDYzT8RqsgGQczsOgHnbAlB2xO+bmUF/kCHonp5Pon3QHy2wnE0AfZA0B9TxmB59UAYzYJXCF7wQA==",
          "dtype": "f8"
         }
        }
       ],
       "layout": {
        "font": {
         "size": 18
        },
        "legend": {
         "title": {
          "text": "Data"
         },
         "tracegroupgap": 0
        },
        "margin": {
         "t": 60
        },
        "plot_bgcolor": "#F5F5F8",
        "scene": {
         "domain": {
          "x": [
           0,
           1
          ],
          "y": [
           0,
           1
          ]
         },
         "xaxis": {
          "title": {
           "text": "R&D Spend"
          }
         },
         "yaxis": {
          "title": {
           "text": "Marketing Spend"
          }
         },
         "zaxis": {
          "title": {
           "text": "Profit"
          }
         }
        },
        "showlegend": true,
        "template": {
         "data": {
          "bar": [
           {
            "error_x": {
             "color": "#2a3f5f"
            },
            "error_y": {
             "color": "#2a3f5f"
            },
            "marker": {
             "line": {
              "color": "#E5ECF6",
              "width": 0.5
             },
             "pattern": {
              "fillmode": "overlay",
              "size": 10,
              "solidity": 0.2
             }
            },
            "type": "bar"
           }
          ],
          "barpolar": [
           {
            "marker": {
             "line": {
              "color": "#E5ECF6",
              "width": 0.5
             },
             "pattern": {
              "fillmode": "overlay",
              "size": 10,
              "solidity": 0.2
             }
            },
            "type": "barpolar"
           }
          ],
          "carpet": [
           {
            "aaxis": {
             "endlinecolor": "#2a3f5f",
             "gridcolor": "white",
             "linecolor": "white",
             "minorgridcolor": "white",
             "startlinecolor": "#2a3f5f"
            },
            "baxis": {
             "endlinecolor": "#2a3f5f",
             "gridcolor": "white",
             "linecolor": "white",
             "minorgridcolor": "white",
             "startlinecolor": "#2a3f5f"
            },
            "type": "carpet"
           }
          ],
          "choropleth": [
           {
            "colorbar": {
             "outlinewidth": 0,
             "ticks": ""
            },
            "type": "choropleth"
           }
          ],
          "contour": [
           {
            "colorbar": {
             "outlinewidth": 0,
             "ticks": ""
            },
            "colorscale": [
             [
              0,
              "#0d0887"
             ],
             [
              0.1111111111111111,
              "#46039f"
             ],
             [
              0.2222222222222222,
              "#7201a8"
             ],
             [
              0.3333333333333333,
              "#9c179e"
             ],
             [
              0.4444444444444444,
              "#bd3786"
             ],
             [
              0.5555555555555556,
              "#d8576b"
             ],
             [
              0.6666666666666666,
              "#ed7953"
             ],
             [
              0.7777777777777778,
              "#fb9f3a"
             ],
             [
              0.8888888888888888,
              "#fdca26"
             ],
             [
              1,
              "#f0f921"
             ]
            ],
            "type": "contour"
           }
          ],
          "contourcarpet": [
           {
            "colorbar": {
             "outlinewidth": 0,
             "ticks": ""
            },
            "type": "contourcarpet"
           }
          ],
          "heatmap": [
           {
            "colorbar": {
             "outlinewidth": 0,
             "ticks": ""
            },
            "colorscale": [
             [
              0,
              "#0d0887"
             ],
             [
              0.1111111111111111,
              "#46039f"
             ],
             [
              0.2222222222222222,
              "#7201a8"
             ],
             [
              0.3333333333333333,
              "#9c179e"
             ],
             [
              0.4444444444444444,
              "#bd3786"
             ],
             [
              0.5555555555555556,
              "#d8576b"
             ],
             [
              0.6666666666666666,
              "#ed7953"
             ],
             [
              0.7777777777777778,
              "#fb9f3a"
             ],
             [
              0.8888888888888888,
              "#fdca26"
             ],
             [
              1,
              "#f0f921"
             ]
            ],
            "type": "heatmap"
           }
          ],
          "histogram": [
           {
            "marker": {
             "pattern": {
              "fillmode": "overlay",
              "size": 10,
              "solidity": 0.2
             }
            },
            "type": "histogram"
           }
          ],
          "histogram2d": [
           {
            "colorbar": {
             "outlinewidth": 0,
             "ticks": ""
            },
            "colorscale": [
             [
              0,
              "#0d0887"
             ],
             [
              0.1111111111111111,
              "#46039f"
             ],
             [
              0.2222222222222222,
              "#7201a8"
             ],
             [
              0.3333333333333333,
              "#9c179e"
             ],
             [
              0.4444444444444444,
              "#bd3786"
             ],
             [
              0.5555555555555556,
              "#d8576b"
             ],
             [
              0.6666666666666666,
              "#ed7953"
             ],
             [
              0.7777777777777778,
              "#fb9f3a"
             ],
             [
              0.8888888888888888,
              "#fdca26"
             ],
             [
              1,
              "#f0f921"
             ]
            ],
            "type": "histogram2d"
           }
          ],
          "histogram2dcontour": [
           {
            "colorbar": {
             "outlinewidth": 0,
             "ticks": ""
            },
            "colorscale": [
             [
              0,
              "#0d0887"
             ],
             [
              0.1111111111111111,
              "#46039f"
             ],
             [
              0.2222222222222222,
              "#7201a8"
             ],
             [
              0.3333333333333333,
              "#9c179e"
             ],
             [
              0.4444444444444444,
              "#bd3786"
             ],
             [
              0.5555555555555556,
              "#d8576b"
             ],
             [
              0.6666666666666666,
              "#ed7953"
             ],
             [
              0.7777777777777778,
              "#fb9f3a"
             ],
             [
              0.8888888888888888,
              "#fdca26"
             ],
             [
              1,
              "#f0f921"
             ]
            ],
            "type": "histogram2dcontour"
           }
          ],
          "mesh3d": [
           {
            "colorbar": {
             "outlinewidth": 0,
             "ticks": ""
            },
            "type": "mesh3d"
           }
          ],
          "parcoords": [
           {
            "line": {
             "colorbar": {
              "outlinewidth": 0,
              "ticks": ""
             }
            },
            "type": "parcoords"
           }
          ],
          "pie": [
           {
            "automargin": true,
            "type": "pie"
           }
          ],
          "scatter": [
           {
            "fillpattern": {
             "fillmode": "overlay",
             "size": 10,
             "solidity": 0.2
            },
            "type": "scatter"
           }
          ],
          "scatter3d": [
           {
            "line": {
             "colorbar": {
              "outlinewidth": 0,
              "ticks": ""
             }
            },
            "marker": {
             "colorbar": {
              "outlinewidth": 0,
              "ticks": ""
             }
            },
            "type": "scatter3d"
           }
          ],
          "scattercarpet": [
           {
            "marker": {
             "colorbar": {
              "outlinewidth": 0,
              "ticks": ""
             }
            },
            "type": "scattercarpet"
           }
          ],
          "scattergeo": [
           {
            "marker": {
             "colorbar": {
              "outlinewidth": 0,
              "ticks": ""
             }
            },
            "type": "scattergeo"
           }
          ],
          "scattergl": [
           {
            "marker": {
             "colorbar": {
              "outlinewidth": 0,
              "ticks": ""
             }
            },
            "type": "scattergl"
           }
          ],
          "scattermap": [
           {
            "marker": {
             "colorbar": {
              "outlinewidth": 0,
              "ticks": ""
             }
            },
            "type": "scattermap"
           }
          ],
          "scattermapbox": [
           {
            "marker": {
             "colorbar": {
              "outlinewidth": 0,
              "ticks": ""
             }
            },
            "type": "scattermapbox"
           }
          ],
          "scatterpolar": [
           {
            "marker": {
             "colorbar": {
              "outlinewidth": 0,
              "ticks": ""
             }
            },
            "type": "scatterpolar"
           }
          ],
          "scatterpolargl": [
           {
            "marker": {
             "colorbar": {
              "outlinewidth": 0,
              "ticks": ""
             }
            },
            "type": "scatterpolargl"
           }
          ],
          "scatterternary": [
           {
            "marker": {
             "colorbar": {
              "outlinewidth": 0,
              "ticks": ""
             }
            },
            "type": "scatterternary"
           }
          ],
          "surface": [
           {
            "colorbar": {
             "outlinewidth": 0,
             "ticks": ""
            },
            "colorscale": [
             [
              0,
              "#0d0887"
             ],
             [
              0.1111111111111111,
              "#46039f"
             ],
             [
              0.2222222222222222,
              "#7201a8"
             ],
             [
              0.3333333333333333,
              "#9c179e"
             ],
             [
              0.4444444444444444,
              "#bd3786"
             ],
             [
              0.5555555555555556,
              "#d8576b"
             ],
             [
              0.6666666666666666,
              "#ed7953"
             ],
             [
              0.7777777777777778,
              "#fb9f3a"
             ],
             [
              0.8888888888888888,
              "#fdca26"
             ],
             [
              1,
              "#f0f921"
             ]
            ],
            "type": "surface"
           }
          ],
          "table": [
           {
            "cells": {
             "fill": {
              "color": "#EBF0F8"
             },
             "line": {
              "color": "white"
             }
            },
            "header": {
             "fill": {
              "color": "#C8D4E3"
             },
             "line": {
              "color": "white"
             }
            },
            "type": "table"
           }
          ]
         },
         "layout": {
          "annotationdefaults": {
           "arrowcolor": "#2a3f5f",
           "arrowhead": 0,
           "arrowwidth": 1
          },
          "autotypenumbers": "strict",
          "coloraxis": {
           "colorbar": {
            "outlinewidth": 0,
            "ticks": ""
           }
          },
          "colorscale": {
           "diverging": [
            [
             0,
             "#8e0152"
            ],
            [
             0.1,
             "#c51b7d"
            ],
            [
             0.2,
             "#de77ae"
            ],
            [
             0.3,
             "#f1b6da"
            ],
            [
             0.4,
             "#fde0ef"
            ],
            [
             0.5,
             "#f7f7f7"
            ],
            [
             0.6,
             "#e6f5d0"
            ],
            [
             0.7,
             "#b8e186"
            ],
            [
             0.8,
             "#7fbc41"
            ],
            [
             0.9,
             "#4d9221"
            ],
            [
             1,
             "#276419"
            ]
           ],
           "sequential": [
            [
             0,
             "#0d0887"
            ],
            [
             0.1111111111111111,
             "#46039f"
            ],
            [
             0.2222222222222222,
             "#7201a8"
            ],
            [
             0.3333333333333333,
             "#9c179e"
            ],
            [
             0.4444444444444444,
             "#bd3786"
            ],
            [
             0.5555555555555556,
             "#d8576b"
            ],
            [
             0.6666666666666666,
             "#ed7953"
            ],
            [
             0.7777777777777778,
             "#fb9f3a"
            ],
            [
             0.8888888888888888,
             "#fdca26"
            ],
            [
             1,
             "#f0f921"
            ]
           ],
           "sequentialminus": [
            [
             0,
             "#0d0887"
            ],
            [
             0.1111111111111111,
             "#46039f"
            ],
            [
             0.2222222222222222,
             "#7201a8"
            ],
            [
             0.3333333333333333,
             "#9c179e"
            ],
            [
             0.4444444444444444,
             "#bd3786"
            ],
            [
             0.5555555555555556,
             "#d8576b"
            ],
            [
             0.6666666666666666,
             "#ed7953"
            ],
            [
             0.7777777777777778,
             "#fb9f3a"
            ],
            [
             0.8888888888888888,
             "#fdca26"
            ],
            [
             1,
             "#f0f921"
            ]
           ]
          },
          "colorway": [
           "#636efa",
           "#EF553B",
           "#00cc96",
           "#ab63fa",
           "#FFA15A",
           "#19d3f3",
           "#FF6692",
           "#B6E880",
           "#FF97FF",
           "#FECB52"
          ],
          "font": {
           "color": "#2a3f5f"
          },
          "geo": {
           "bgcolor": "white",
           "lakecolor": "white",
           "landcolor": "#E5ECF6",
           "showlakes": true,
           "showland": true,
           "subunitcolor": "white"
          },
          "hoverlabel": {
           "align": "left"
          },
          "hovermode": "closest",
          "mapbox": {
           "style": "light"
          },
          "paper_bgcolor": "white",
          "plot_bgcolor": "#E5ECF6",
          "polar": {
           "angularaxis": {
            "gridcolor": "white",
            "linecolor": "white",
            "ticks": ""
           },
           "bgcolor": "#E5ECF6",
           "radialaxis": {
            "gridcolor": "white",
            "linecolor": "white",
            "ticks": ""
           }
          },
          "scene": {
           "xaxis": {
            "backgroundcolor": "#E5ECF6",
            "gridcolor": "white",
            "gridwidth": 2,
            "linecolor": "white",
            "showbackground": true,
            "ticks": "",
            "zerolinecolor": "white"
           },
           "yaxis": {
            "backgroundcolor": "#E5ECF6",
            "gridcolor": "white",
            "gridwidth": 2,
            "linecolor": "white",
            "showbackground": true,
            "ticks": "",
            "zerolinecolor": "white"
           },
           "zaxis": {
            "backgroundcolor": "#E5ECF6",
            "gridcolor": "white",
            "gridwidth": 2,
            "linecolor": "white",
            "showbackground": true,
            "ticks": "",
            "zerolinecolor": "white"
           }
          },
          "shapedefaults": {
           "line": {
            "color": "#2a3f5f"
           }
          },
          "ternary": {
           "aaxis": {
            "gridcolor": "white",
            "linecolor": "white",
            "ticks": ""
           },
           "baxis": {
            "gridcolor": "white",
            "linecolor": "white",
            "ticks": ""
           },
           "bgcolor": "#E5ECF6",
           "caxis": {
            "gridcolor": "white",
            "linecolor": "white",
            "ticks": ""
           }
          },
          "title": {
           "x": 0.05
          },
          "xaxis": {
           "automargin": true,
           "gridcolor": "white",
           "linecolor": "white",
           "ticks": "",
           "title": {
            "standoff": 15
           },
           "zerolinecolor": "white",
           "zerolinewidth": 2
          },
          "yaxis": {
           "automargin": true,
           "gridcolor": "white",
           "linecolor": "white",
           "ticks": "",
           "title": {
            "standoff": 15
           },
           "zerolinecolor": "white",
           "zerolinewidth": 2
          }
         }
        },
        "title": {
         "text": "Real vs. Synthetic Data for columns 'R&D Spend', 'Marketing Spend' and 'Profit'"
        }
       }
      }
     },
     "metadata": {},
     "output_type": "display_data"
    }
   ],
   "source": [
    "# Proponer una f.d.p. al proceso, si el investigador tiene información\n",
    "\n",
    "from copulas.univariate import GaussianUnivariate\n",
    "\n",
    "dist = GaussianMultivariate(distribution=GaussianUnivariate) # Asignar a los datos la f.d.p. normal univariada\n",
    "dist.fit(df[['R&D Spend', 'Marketing Spend', 'Profit']])\n",
    "\n",
    "sampled = dist.sample(50) # generar 1_000 valores\n",
    "\n",
    "compare_3d(df[['R&D Spend', 'Marketing Spend', 'Profit']], sampled) # mostrar los gráficos para compararlos"
   ]
  },
  {
   "cell_type": "code",
   "execution_count": 108,
   "id": "590d3744",
   "metadata": {},
   "outputs": [
    {
     "data": {
      "application/vnd.plotly.v1+json": {
       "config": {
        "plotlyServerURL": "https://plot.ly"
       },
       "data": [
        {
         "hovertemplate": "Data=Real<br>R&D Spend=%{x}<br>Marketing Spend=%{y}<br>Profit=%{z}<extra></extra>",
         "legendgroup": "Real",
         "marker": {
          "color": "#000036",
          "size": 5,
          "symbol": "circle"
         },
         "mode": "markers",
         "name": "Real",
         "scene": "scene",
         "showlegend": true,
         "type": "scatter3d",
         "x": {
          "bdata": "mpmZmSkvBEGamZmZLdkDQUjhehQMuwJBexSuR6OfAUGF61G42lgBQTMzMzMnGQBB4XoUrrtuAEFI4XoUos//QB+F61Hobf1ASOF6FG4c/kB7FK5HkeH4QMP1KFz/k/hAAAAAAHzq9kDXo3A9hnX2QHE9CtdzSP1AKVyPwrn1+0ApXI/C0QvzQPYoXI8SHPdA9ihcj1Jm9kApXI/C3Z3yQFK4HoVXI/NAXI/C9agQ8kCuR+F6yHzwQI/C9ShAz/JAhetRuBaT70C4HoXrDWTyQJqZmZm5mvFAH4XrUTgg8EDhehSuVwTwQMP1KFxPRe5Aj8L1KAza7UBSuB6FG/buQGZmZma+GOtA16NwPUKr5kA9CtejwHfmQD0K16Pw/dtAZmZmZr6E5UApXI/CZcHTQB+F61HQ0+JA7FG4HpUU3EAUrkfhOj3bQFK4HoU7FtdACtejcN1IzkDD9Shcb6jVQKRwPQrXQY9ApHA9CteNlEA=",
          "dtype": "f8"
         },
         "y": {
          "bdata": "ZmZmZqDLHEHsUbge6hcbQY/C9Sj65RhBrkfhen5jF0HhehSuYVkWQQrXo3C1JRZB7FG4Hk0u/0CF61G4ksQTQY/C9Sj1BBNBrkfheladEkGamZmZR/kLQWZmZmaEfA5BUrgehXt/DkEK16Nwx9cOQcP1KFwHUA9BcT0K14H0D0HXo3A9aCIQQdejcD05PxFBexSuRx4AEkEUrkfhoToSQY/C9ShlSxJBpHA9Cl2DEkG4HoXrApoSQa5H4Xr2KAFBXI/C9VTXAEH2KFyPEF0AQdejcD1/jhVBMzMzM0PY/EBI4XoUJij6QHE9CtezP/ZA4XoUrqOJ9UAAAAAAqIDmQK5H4XpWMwpBw/UoXG27CUHsUbgebRYJQfYoXI82jQhBw/UoXCsNCEHNzMzMiJ0GQWZmZma6XAVBw/UoXN0XBUHhehSutRMEQRSuR+EIEQJBCtejcMVZ4UBI4XoUrqvbQB+F61G4v51AcT0K12kiEkE=",
          "dtype": "f8"
         },
         "z": {
          "bdata": "PQrXoy54B0GuR+F6gGkHQexRuB5TUgdBuB6F669TBkFSuB6FX0kEQVyPwvX4KQNBSOF6FNQOA0HNzMzMRAMDQY/C9SielAJB4XoUrv9HAkGamZmZT9YBQTMzMzMbnAFBj8L1KIxIAUHNzMzMGmUAQTMzMzPVLwBBPQrXo9C3/0AUrkfhDgH/QLgeheulm/5AZmZmZq5W/kCuR+F6oOz8QB+F61EQLftAAAAAAATx+kBxPQrX34v6QD0K16OAgPpACtejcMU4+kA9CtejWND5QFyPwvUEo/lASOF6FCY3+UDXo3A9yqj4QArXo3AZZvhAXI/C9bjM90AK16NwPcn3QIXrUbiuoPdAzczMzIyc90CPwvUo+I33QKRwPQpDJfZA16NwPdL19UBcj8L10NTzQI/C9SjcxvNA9ihcj/4Z80B7FK5Hbf7yQHE9CtendPFA4XoUru8H8UD2KFyPCtbvQPYoXI/Cs+9AAAAAAFgq6EA=",
          "dtype": "f8"
         }
        },
        {
         "hovertemplate": "Data=Synthetic<br>R&D Spend=%{x}<br>Marketing Spend=%{y}<br>Profit=%{z}<extra></extra>",
         "legendgroup": "Synthetic",
         "marker": {
          "color": "#01E0C9",
          "size": 5,
          "symbol": "diamond"
         },
         "mode": "markers",
         "name": "Synthetic",
         "scene": "scene",
         "showlegend": true,
         "type": "scatter3d",
         "x": {
          "bdata": "8ZSeFwRP4kClOdEWQXzjQDrSWIulhdlAIVSw5YPcBkHC/s3zaqEIQRTVxsb0T/JAfYGnDiL610Di1cBhS6fjQI1G4cjasOlABn8NBsEg7kCGkJaHCGvTQAYSY9TNhSNBRHRBPqfg1UA2/TM8EQfzQI39K0JVuQlBks9XzUT17ECcM5HAUirJQNbEIQgo2elAv0cOv8BK7EBpDBKXBwPzQLbbgxxlAA1BNDQUlzCM20DyC+ExvYLcQGG9PCzEV+xA0qfTuj86wECpst64t8zrQGNss3vNoPVAO2r+WoLCAEGRiNzX0IfsQKsbSuxykwhBtrnErlHgsUBQX69W1i37QGKymr2iWOZA/OFMt/Gj/kDN3yyDH6PrQFWpTDcUDOJAWti5gZCx9UD98dXMpMb9QPsK971/0wBBXpLkQ9aIA0FlkkmzjGvAQHeMIHRUl91Avaxt5YZjGEGFgYYMz7f1QCh/5vr6QN1AKUBCaJaI1EDHBLu6rrTjQKy6fUnzXeRAxlogHYUm8UArXMJ5ZkfZQA==",
          "dtype": "f8"
         },
         "y": {
          "bdata": "wnniZVspEkFMy4+l8pYUQQOU0bwTNwhBlBRMsQJmC0E9dvSskBgLQZNRvpp78w1B/s4cM8o7AUGtLMg3jVoOQU2Scbbkng9BofvWvLV5EEFiCrjPO1MDQQ3TneLQhhRB9ircJ+RYAkHwj3TMJr0TQdv9cugRwgdB15H35qctC0G8C2rd6qkGQcwh89SGpAlBxMnMs1uDAUEzS3nkvxkRQVcuNG/C8AlBUHwolu6fAkFshI9o8n4GQc9Zas1VxARBmlFzafcU9ECuCcDyW/4GQaxMFqwiPABBLKKEmSsH/EDKDvm2Ya0DQc6MCOSl0xJBQMzV7VCq9kCATa8FrykVQX2tpEMysAxBlQUsHsZ0FEH5gYjwdNwPQYJQIaZWlwxBZFlCNZDzD0E/mkL84icUQUxr+H8EfAZBQadyQLEWCkERPAg0FDf/QPlQAoe2RvlAR1Cnctd2EkGoMtckNRISQfsJxEcHcBhBtqQGM/JR9UBhBdPlGwQUQUQJwp5qY+NAXm/Kz931GEGbAXw8K5/9QA==",
          "dtype": "f8"
         },
         "z": {
          "bdata": "9Cbpmmlf+EAdX+9qgS37QEvNIDdEcvRA/Q9AVqqt/kC98fvDUdkEQUTV+8iLR/1A/V+oEvm69UC0pQsJjXsAQcHSC0CmB/pA/DyfGvlQAEH2Jt/IxwfzQDbFVtehHwdBTn/uSi2S9kAbeic1/0YDQeB0Z47n0wNBmyYh+Ld29kC8JA/KMNb1QCzyNj33I/dAFaZzEPNX+UD5fkoRgFUBQXS7y3tJiANBoOGwQNFH90CwefKDNzr0QJpp7WSTc/hAUB+Xv18/8EBB5PtGazgAQaQIuj/OJPtAhw6v0v04AEG9USMs/Dj0QJEisRvM5QRBrVgXGPiF50Do0U8CHOcCQQVAQbomhf1AWdded1QQAkH9g52ChQP8QGDI+5CUEfdAYRiSOOV++0AWfpm40d8CQUeu/7OIiwJBZGf2d9mUB0FaBy9gUyPxQBJYYt+fB/ZAn/MvLN3ICEGp1MFh3az6QFfgnkz/N/1AKFPKOHBG9EBzQBr0KLH0QCFXCturCvhAn2wGypy/AEGsss22x0TxQA==",
          "dtype": "f8"
         }
        }
       ],
       "layout": {
        "font": {
         "size": 18
        },
        "legend": {
         "title": {
          "text": "Data"
         },
         "tracegroupgap": 0
        },
        "margin": {
         "t": 60
        },
        "plot_bgcolor": "#F5F5F8",
        "scene": {
         "domain": {
          "x": [
           0,
           1
          ],
          "y": [
           0,
           1
          ]
         },
         "xaxis": {
          "title": {
           "text": "R&D Spend"
          }
         },
         "yaxis": {
          "title": {
           "text": "Marketing Spend"
          }
         },
         "zaxis": {
          "title": {
           "text": "Profit"
          }
         }
        },
        "showlegend": true,
        "template": {
         "data": {
          "bar": [
           {
            "error_x": {
             "color": "#2a3f5f"
            },
            "error_y": {
             "color": "#2a3f5f"
            },
            "marker": {
             "line": {
              "color": "#E5ECF6",
              "width": 0.5
             },
             "pattern": {
              "fillmode": "overlay",
              "size": 10,
              "solidity": 0.2
             }
            },
            "type": "bar"
           }
          ],
          "barpolar": [
           {
            "marker": {
             "line": {
              "color": "#E5ECF6",
              "width": 0.5
             },
             "pattern": {
              "fillmode": "overlay",
              "size": 10,
              "solidity": 0.2
             }
            },
            "type": "barpolar"
           }
          ],
          "carpet": [
           {
            "aaxis": {
             "endlinecolor": "#2a3f5f",
             "gridcolor": "white",
             "linecolor": "white",
             "minorgridcolor": "white",
             "startlinecolor": "#2a3f5f"
            },
            "baxis": {
             "endlinecolor": "#2a3f5f",
             "gridcolor": "white",
             "linecolor": "white",
             "minorgridcolor": "white",
             "startlinecolor": "#2a3f5f"
            },
            "type": "carpet"
           }
          ],
          "choropleth": [
           {
            "colorbar": {
             "outlinewidth": 0,
             "ticks": ""
            },
            "type": "choropleth"
           }
          ],
          "contour": [
           {
            "colorbar": {
             "outlinewidth": 0,
             "ticks": ""
            },
            "colorscale": [
             [
              0,
              "#0d0887"
             ],
             [
              0.1111111111111111,
              "#46039f"
             ],
             [
              0.2222222222222222,
              "#7201a8"
             ],
             [
              0.3333333333333333,
              "#9c179e"
             ],
             [
              0.4444444444444444,
              "#bd3786"
             ],
             [
              0.5555555555555556,
              "#d8576b"
             ],
             [
              0.6666666666666666,
              "#ed7953"
             ],
             [
              0.7777777777777778,
              "#fb9f3a"
             ],
             [
              0.8888888888888888,
              "#fdca26"
             ],
             [
              1,
              "#f0f921"
             ]
            ],
            "type": "contour"
           }
          ],
          "contourcarpet": [
           {
            "colorbar": {
             "outlinewidth": 0,
             "ticks": ""
            },
            "type": "contourcarpet"
           }
          ],
          "heatmap": [
           {
            "colorbar": {
             "outlinewidth": 0,
             "ticks": ""
            },
            "colorscale": [
             [
              0,
              "#0d0887"
             ],
             [
              0.1111111111111111,
              "#46039f"
             ],
             [
              0.2222222222222222,
              "#7201a8"
             ],
             [
              0.3333333333333333,
              "#9c179e"
             ],
             [
              0.4444444444444444,
              "#bd3786"
             ],
             [
              0.5555555555555556,
              "#d8576b"
             ],
             [
              0.6666666666666666,
              "#ed7953"
             ],
             [
              0.7777777777777778,
              "#fb9f3a"
             ],
             [
              0.8888888888888888,
              "#fdca26"
             ],
             [
              1,
              "#f0f921"
             ]
            ],
            "type": "heatmap"
           }
          ],
          "histogram": [
           {
            "marker": {
             "pattern": {
              "fillmode": "overlay",
              "size": 10,
              "solidity": 0.2
             }
            },
            "type": "histogram"
           }
          ],
          "histogram2d": [
           {
            "colorbar": {
             "outlinewidth": 0,
             "ticks": ""
            },
            "colorscale": [
             [
              0,
              "#0d0887"
             ],
             [
              0.1111111111111111,
              "#46039f"
             ],
             [
              0.2222222222222222,
              "#7201a8"
             ],
             [
              0.3333333333333333,
              "#9c179e"
             ],
             [
              0.4444444444444444,
              "#bd3786"
             ],
             [
              0.5555555555555556,
              "#d8576b"
             ],
             [
              0.6666666666666666,
              "#ed7953"
             ],
             [
              0.7777777777777778,
              "#fb9f3a"
             ],
             [
              0.8888888888888888,
              "#fdca26"
             ],
             [
              1,
              "#f0f921"
             ]
            ],
            "type": "histogram2d"
           }
          ],
          "histogram2dcontour": [
           {
            "colorbar": {
             "outlinewidth": 0,
             "ticks": ""
            },
            "colorscale": [
             [
              0,
              "#0d0887"
             ],
             [
              0.1111111111111111,
              "#46039f"
             ],
             [
              0.2222222222222222,
              "#7201a8"
             ],
             [
              0.3333333333333333,
              "#9c179e"
             ],
             [
              0.4444444444444444,
              "#bd3786"
             ],
             [
              0.5555555555555556,
              "#d8576b"
             ],
             [
              0.6666666666666666,
              "#ed7953"
             ],
             [
              0.7777777777777778,
              "#fb9f3a"
             ],
             [
              0.8888888888888888,
              "#fdca26"
             ],
             [
              1,
              "#f0f921"
             ]
            ],
            "type": "histogram2dcontour"
           }
          ],
          "mesh3d": [
           {
            "colorbar": {
             "outlinewidth": 0,
             "ticks": ""
            },
            "type": "mesh3d"
           }
          ],
          "parcoords": [
           {
            "line": {
             "colorbar": {
              "outlinewidth": 0,
              "ticks": ""
             }
            },
            "type": "parcoords"
           }
          ],
          "pie": [
           {
            "automargin": true,
            "type": "pie"
           }
          ],
          "scatter": [
           {
            "fillpattern": {
             "fillmode": "overlay",
             "size": 10,
             "solidity": 0.2
            },
            "type": "scatter"
           }
          ],
          "scatter3d": [
           {
            "line": {
             "colorbar": {
              "outlinewidth": 0,
              "ticks": ""
             }
            },
            "marker": {
             "colorbar": {
              "outlinewidth": 0,
              "ticks": ""
             }
            },
            "type": "scatter3d"
           }
          ],
          "scattercarpet": [
           {
            "marker": {
             "colorbar": {
              "outlinewidth": 0,
              "ticks": ""
             }
            },
            "type": "scattercarpet"
           }
          ],
          "scattergeo": [
           {
            "marker": {
             "colorbar": {
              "outlinewidth": 0,
              "ticks": ""
             }
            },
            "type": "scattergeo"
           }
          ],
          "scattergl": [
           {
            "marker": {
             "colorbar": {
              "outlinewidth": 0,
              "ticks": ""
             }
            },
            "type": "scattergl"
           }
          ],
          "scattermap": [
           {
            "marker": {
             "colorbar": {
              "outlinewidth": 0,
              "ticks": ""
             }
            },
            "type": "scattermap"
           }
          ],
          "scattermapbox": [
           {
            "marker": {
             "colorbar": {
              "outlinewidth": 0,
              "ticks": ""
             }
            },
            "type": "scattermapbox"
           }
          ],
          "scatterpolar": [
           {
            "marker": {
             "colorbar": {
              "outlinewidth": 0,
              "ticks": ""
             }
            },
            "type": "scatterpolar"
           }
          ],
          "scatterpolargl": [
           {
            "marker": {
             "colorbar": {
              "outlinewidth": 0,
              "ticks": ""
             }
            },
            "type": "scatterpolargl"
           }
          ],
          "scatterternary": [
           {
            "marker": {
             "colorbar": {
              "outlinewidth": 0,
              "ticks": ""
             }
            },
            "type": "scatterternary"
           }
          ],
          "surface": [
           {
            "colorbar": {
             "outlinewidth": 0,
             "ticks": ""
            },
            "colorscale": [
             [
              0,
              "#0d0887"
             ],
             [
              0.1111111111111111,
              "#46039f"
             ],
             [
              0.2222222222222222,
              "#7201a8"
             ],
             [
              0.3333333333333333,
              "#9c179e"
             ],
             [
              0.4444444444444444,
              "#bd3786"
             ],
             [
              0.5555555555555556,
              "#d8576b"
             ],
             [
              0.6666666666666666,
              "#ed7953"
             ],
             [
              0.7777777777777778,
              "#fb9f3a"
             ],
             [
              0.8888888888888888,
              "#fdca26"
             ],
             [
              1,
              "#f0f921"
             ]
            ],
            "type": "surface"
           }
          ],
          "table": [
           {
            "cells": {
             "fill": {
              "color": "#EBF0F8"
             },
             "line": {
              "color": "white"
             }
            },
            "header": {
             "fill": {
              "color": "#C8D4E3"
             },
             "line": {
              "color": "white"
             }
            },
            "type": "table"
           }
          ]
         },
         "layout": {
          "annotationdefaults": {
           "arrowcolor": "#2a3f5f",
           "arrowhead": 0,
           "arrowwidth": 1
          },
          "autotypenumbers": "strict",
          "coloraxis": {
           "colorbar": {
            "outlinewidth": 0,
            "ticks": ""
           }
          },
          "colorscale": {
           "diverging": [
            [
             0,
             "#8e0152"
            ],
            [
             0.1,
             "#c51b7d"
            ],
            [
             0.2,
             "#de77ae"
            ],
            [
             0.3,
             "#f1b6da"
            ],
            [
             0.4,
             "#fde0ef"
            ],
            [
             0.5,
             "#f7f7f7"
            ],
            [
             0.6,
             "#e6f5d0"
            ],
            [
             0.7,
             "#b8e186"
            ],
            [
             0.8,
             "#7fbc41"
            ],
            [
             0.9,
             "#4d9221"
            ],
            [
             1,
             "#276419"
            ]
           ],
           "sequential": [
            [
             0,
             "#0d0887"
            ],
            [
             0.1111111111111111,
             "#46039f"
            ],
            [
             0.2222222222222222,
             "#7201a8"
            ],
            [
             0.3333333333333333,
             "#9c179e"
            ],
            [
             0.4444444444444444,
             "#bd3786"
            ],
            [
             0.5555555555555556,
             "#d8576b"
            ],
            [
             0.6666666666666666,
             "#ed7953"
            ],
            [
             0.7777777777777778,
             "#fb9f3a"
            ],
            [
             0.8888888888888888,
             "#fdca26"
            ],
            [
             1,
             "#f0f921"
            ]
           ],
           "sequentialminus": [
            [
             0,
             "#0d0887"
            ],
            [
             0.1111111111111111,
             "#46039f"
            ],
            [
             0.2222222222222222,
             "#7201a8"
            ],
            [
             0.3333333333333333,
             "#9c179e"
            ],
            [
             0.4444444444444444,
             "#bd3786"
            ],
            [
             0.5555555555555556,
             "#d8576b"
            ],
            [
             0.6666666666666666,
             "#ed7953"
            ],
            [
             0.7777777777777778,
             "#fb9f3a"
            ],
            [
             0.8888888888888888,
             "#fdca26"
            ],
            [
             1,
             "#f0f921"
            ]
           ]
          },
          "colorway": [
           "#636efa",
           "#EF553B",
           "#00cc96",
           "#ab63fa",
           "#FFA15A",
           "#19d3f3",
           "#FF6692",
           "#B6E880",
           "#FF97FF",
           "#FECB52"
          ],
          "font": {
           "color": "#2a3f5f"
          },
          "geo": {
           "bgcolor": "white",
           "lakecolor": "white",
           "landcolor": "#E5ECF6",
           "showlakes": true,
           "showland": true,
           "subunitcolor": "white"
          },
          "hoverlabel": {
           "align": "left"
          },
          "hovermode": "closest",
          "mapbox": {
           "style": "light"
          },
          "paper_bgcolor": "white",
          "plot_bgcolor": "#E5ECF6",
          "polar": {
           "angularaxis": {
            "gridcolor": "white",
            "linecolor": "white",
            "ticks": ""
           },
           "bgcolor": "#E5ECF6",
           "radialaxis": {
            "gridcolor": "white",
            "linecolor": "white",
            "ticks": ""
           }
          },
          "scene": {
           "xaxis": {
            "backgroundcolor": "#E5ECF6",
            "gridcolor": "white",
            "gridwidth": 2,
            "linecolor": "white",
            "showbackground": true,
            "ticks": "",
            "zerolinecolor": "white"
           },
           "yaxis": {
            "backgroundcolor": "#E5ECF6",
            "gridcolor": "white",
            "gridwidth": 2,
            "linecolor": "white",
            "showbackground": true,
            "ticks": "",
            "zerolinecolor": "white"
           },
           "zaxis": {
            "backgroundcolor": "#E5ECF6",
            "gridcolor": "white",
            "gridwidth": 2,
            "linecolor": "white",
            "showbackground": true,
            "ticks": "",
            "zerolinecolor": "white"
           }
          },
          "shapedefaults": {
           "line": {
            "color": "#2a3f5f"
           }
          },
          "ternary": {
           "aaxis": {
            "gridcolor": "white",
            "linecolor": "white",
            "ticks": ""
           },
           "baxis": {
            "gridcolor": "white",
            "linecolor": "white",
            "ticks": ""
           },
           "bgcolor": "#E5ECF6",
           "caxis": {
            "gridcolor": "white",
            "linecolor": "white",
            "ticks": ""
           }
          },
          "title": {
           "x": 0.05
          },
          "xaxis": {
           "automargin": true,
           "gridcolor": "white",
           "linecolor": "white",
           "ticks": "",
           "title": {
            "standoff": 15
           },
           "zerolinecolor": "white",
           "zerolinewidth": 2
          },
          "yaxis": {
           "automargin": true,
           "gridcolor": "white",
           "linecolor": "white",
           "ticks": "",
           "title": {
            "standoff": 15
           },
           "zerolinecolor": "white",
           "zerolinewidth": 2
          }
         }
        },
        "title": {
         "text": "Real vs. Synthetic Data for columns 'R&D Spend', 'Marketing Spend' and 'Profit'"
        }
       }
      }
     },
     "metadata": {},
     "output_type": "display_data"
    }
   ],
   "source": [
    "import numpy as np\n",
    "from copulas.multivariate import GaussianMultivariate\n",
    "from copulas.univariate import GaussianUnivariate\n",
    "\n",
    "cols = ['R&D Spend', 'Marketing Spend', 'Profit']\n",
    "\n",
    "# 1) Trabajamos en el espacio donde todas son normales:\n",
    "df_z = df[cols].copy()\n",
    "df_z['R&D Spend'] = np.log(df_z['R&D Spend'])   # ahora R&D es ~Normal\n",
    "df_z['Profit'] = np.log(df_z['Profit'])   # ahora Profit es ~Normal\n",
    "\n",
    "\n",
    "# 2) Ajusta cópula gaussiana con marginales gaussianas\n",
    "model = GaussianMultivariate(distribution=GaussianUnivariate)\n",
    "model.fit(df_z)\n",
    "\n",
    "# 3) Muestra y retransforma solo R&D\n",
    "sampled_z = model.sample(50)\n",
    "sampled = sampled_z.copy()\n",
    "sampled['R&D Spend'] = np.exp(sampled_z['R&D Spend'])  # vuelve a escala original (lognormal)\n",
    "sampled['Profit'] = np.exp(sampled_z['Profit'])  # vuelve a escala original (lognormal)\n",
    "\n",
    "# 4) Compara\n",
    "compare_3d(df[cols], sampled)\n",
    "\n"
   ]
  },
  {
   "cell_type": "code",
   "execution_count": 109,
   "id": "3feecca1",
   "metadata": {},
   "outputs": [
    {
     "name": "stdout",
     "output_type": "stream",
     "text": [
      "\n",
      "=== KS (real vs sintético) por variable ===\n",
      "       Variable   KS_D_A   KS_p_A   KS_D_B   KS_p_B\n",
      "      R&D Spend 0.115296 0.540999 0.222252 0.018522\n",
      "Marketing Spend 0.076400 0.934230 0.081000 0.902078\n",
      "         Profit 0.132817 0.364702 0.091870 0.802635\n",
      "\n",
      "=== Dependencia: distancia de matrices (menor es mejor) ===\n",
      "              Metric  Model A  Model B\n",
      "Spearman Frobenius Δ 0.034017 0.368395\n",
      " Kendall Frobenius Δ 0.098655 0.483327\n",
      "\n",
      "=== Momentos (media / std) real vs A vs B ===\n",
      "       Variable          mean           std      mean (A)       std (A)      mean (B)       std (B)\n",
      "      R&D Spend  78241.718043  43695.348335  79173.237153  42539.028032  98623.859009 136961.500989\n",
      "Marketing Spend 228393.083261 111336.691801 229638.759668 109096.950666 227576.617469 110152.886815\n",
      "         Profit 117063.925217  35960.003971 117630.821760  35012.250464 116616.113479  37655.797217\n",
      "\n",
      "Spearman real:\n",
      "                  R&D Spend  Marketing Spend  Profit\n",
      "R&D Spend            1.000            0.696   0.988\n",
      "Marketing Spend      0.696            1.000   0.708\n",
      "Profit               0.988            0.708   1.000\n",
      "\n",
      "Spearman A:\n",
      "                  R&D Spend  Marketing Spend  Profit\n",
      "R&D Spend            1.000            0.702   0.974\n",
      "Marketing Spend      0.702            1.000   0.727\n",
      "Profit               0.974            0.727   1.000\n",
      "\n",
      "Spearman B:\n",
      "                  R&D Spend  Marketing Spend  Profit\n",
      "R&D Spend            1.000            0.479   0.847\n",
      "Marketing Spend      0.479            1.000   0.676\n",
      "Profit               0.847            0.676   1.000\n"
     ]
    }
   ],
   "source": [
    "import numpy as np\n",
    "import pandas as pd\n",
    "import scipy.stats as st\n",
    "from copulas.multivariate import GaussianMultivariate\n",
    "from copulas.univariate import GaussianUnivariate\n",
    "\n",
    "cols = ['R&D Spend', 'Marketing Spend', 'Profit']\n",
    "X_real = df[cols].copy()\n",
    "\n",
    "# ---------- MODELO A: Gaussian marginals en escala original ----------\n",
    "model_A = GaussianMultivariate(distribution=GaussianUnivariate)\n",
    "model_A.fit(X_real)\n",
    "syn_A = model_A.sample(5000)   # más muestras para estabilizar métricas\n",
    "\n",
    "# ---------- MODELO B: log-transform R&D, Gaussian marginals, re-exp ----------\n",
    "Xz = X_real.copy()\n",
    "Xz['R&D Spend'] = np.log(Xz['R&D Spend'])\n",
    "Xz['Profit'] = np.log(Xz['Profit'])\n",
    "model_B = GaussianMultivariate(distribution=GaussianUnivariate)\n",
    "model_B.fit(Xz)\n",
    "syn_Bz = model_B.sample(5000)\n",
    "syn_B = syn_Bz.copy()\n",
    "syn_B['R&D Spend'] = np.exp(syn_Bz['R&D Spend'])\n",
    "syn_B['Profit'] = np.exp(syn_Bz['Profit'])\n",
    "\n",
    "# ---------- Funciones auxiliares ----------\n",
    "def ks_row(real, synth):\n",
    "    D, p = st.ks_2samp(real, synth)\n",
    "    return D, p\n",
    "\n",
    "def corr_frob(C1, C2):\n",
    "    return np.linalg.norm(C1 - C2, ord='fro')\n",
    "\n",
    "# ---------- 1) KS por variable ----------\n",
    "rows = []\n",
    "for c in cols:\n",
    "    D_A, p_A = ks_row(X_real[c].values, syn_A[c].values)\n",
    "    D_B, p_B = ks_row(X_real[c].values, syn_B[c].values)\n",
    "    rows.append([c, D_A, p_A, D_B, p_B])\n",
    "\n",
    "ks_table = pd.DataFrame(rows, columns=['Variable','KS_D_A','KS_p_A','KS_D_B','KS_p_B'])\n",
    "\n",
    "# ---------- 2) Dependencia: Spearman / Kendall + distancia de matrices ----------\n",
    "real_spr = X_real.corr(method='spearman')\n",
    "A_spr    = syn_A.corr(method='spearman')\n",
    "B_spr    = syn_B.corr(method='spearman')\n",
    "\n",
    "real_knd = X_real.corr(method='kendall')\n",
    "A_knd    = syn_A.corr(method='kendall')\n",
    "B_knd    = syn_B.corr(method='kendall')\n",
    "\n",
    "dep_summary = pd.DataFrame({\n",
    "    'Metric': ['Spearman Frobenius Δ', 'Kendall Frobenius Δ'],\n",
    "    'Model A': [corr_frob(real_spr.values, A_spr.values),\n",
    "                corr_frob(real_knd.values, A_knd.values)],\n",
    "    'Model B': [corr_frob(real_spr.values, B_spr.values),\n",
    "                corr_frob(real_knd.values, B_knd.values)]\n",
    "})\n",
    "\n",
    "# ---------- 3) Momentos (media / std) ----------\n",
    "def moments(df_):\n",
    "    return pd.DataFrame({\n",
    "        'mean': df_.mean(),\n",
    "        'std':  df_.std(ddof=1)\n",
    "    })\n",
    "\n",
    "mom_real = moments(X_real).rename_axis('Variable')\n",
    "mom_A    = moments(syn_A).rename_axis('Variable')\n",
    "mom_B    = moments(syn_B).rename_axis('Variable')\n",
    "\n",
    "moments_comp = (mom_real\n",
    "                .join(mom_A, rsuffix=' (A)')\n",
    "                .join(mom_B, rsuffix=' (B)')\n",
    "                .reset_index())\n",
    "\n",
    "# ---------- Mostrar resultados ----------\n",
    "print(\"\\n=== KS (real vs sintético) por variable ===\")\n",
    "print(ks_table.to_string(index=False))\n",
    "\n",
    "print(\"\\n=== Dependencia: distancia de matrices (menor es mejor) ===\")\n",
    "print(dep_summary.to_string(index=False))\n",
    "\n",
    "print(\"\\n=== Momentos (media / std) real vs A vs B ===\")\n",
    "print(moments_comp.to_string(index=False))\n",
    "\n",
    "# Opcional: ver matrices de Spearman/Kendall\n",
    "print(\"\\nSpearman real:\\n\", real_spr.round(3))\n",
    "print(\"\\nSpearman A:\\n\", A_spr.round(3))\n",
    "print(\"\\nSpearman B:\\n\", B_spr.round(3))\n"
   ]
  },
  {
   "cell_type": "code",
   "execution_count": 110,
   "id": "8e05ca3f",
   "metadata": {},
   "outputs": [
    {
     "name": "stdout",
     "output_type": "stream",
     "text": [
      "\n",
      "KS (real vs sintético) — Modelo C\n",
      "R&D Spend      : D=0.102, p=0.686\n",
      "Marketing Spend: D=0.077, p=0.930\n",
      "Profit         : D=0.080, p=0.908\n",
      "\n",
      "Spearman Frobenius Δ (menor=mejor): 0.07440795071657993\n"
     ]
    }
   ],
   "source": [
    "import numpy as np\n",
    "import pandas as pd\n",
    "import scipy.stats as st\n",
    "from copulas.multivariate import GaussianMultivariate\n",
    "from copulas.univariate import GaussianUnivariate\n",
    "\n",
    "cols = ['R&D Spend','Marketing Spend','Profit']\n",
    "X = df[cols].copy()\n",
    "\n",
    "# --- Híbrido (Modelo C): log SOLO Profit ---\n",
    "Xz = X.copy()\n",
    "Xz['Profit'] = np.log(Xz['Profit'])\n",
    "\n",
    "model_C = GaussianMultivariate(distribution=GaussianUnivariate)\n",
    "model_C.fit(Xz)\n",
    "\n",
    "syn_Cz = model_C.sample(5000)\n",
    "syn_C  = syn_Cz.copy()\n",
    "syn_C['Profit'] = np.exp(syn_Cz['Profit'])\n",
    "\n",
    "# --- Métricas rápidas ---\n",
    "def ks_2s(x, y): \n",
    "    D, p = st.ks_2samp(x, y); \n",
    "    return D, p\n",
    "\n",
    "print(\"\\nKS (real vs sintético) — Modelo C\")\n",
    "for c in cols:\n",
    "    D,p = ks_2s(X[c].values, syn_C[c].values)\n",
    "    print(f\"{c:15s}: D={D:.3f}, p={p:.3f}\")\n",
    "\n",
    "def frob(a,b): \n",
    "    import numpy as np; \n",
    "    return np.linalg.norm(a-b, ord='fro')\n",
    "\n",
    "real_spr = X.corr(method='spearman').values\n",
    "C_spr    = syn_C.corr(method='spearman').values\n",
    "print(\"\\nSpearman Frobenius Δ (menor=mejor):\", frob(real_spr, C_spr))\n"
   ]
  },
  {
   "cell_type": "code",
   "execution_count": 115,
   "id": "099df48a",
   "metadata": {},
   "outputs": [
    {
     "name": "stdout",
     "output_type": "stream",
     "text": [
      "Muestra sintética (primeras filas):\n",
      "       R&D Spend  Marketing Spend         Profit\n",
      "0  131572.889723    272518.275949  168708.269020\n",
      "1  127034.705872    403842.231020  178574.762731\n",
      "2  169002.548020    481203.874605  234726.853877\n",
      "3  108601.913247    348834.645711  137028.910852\n",
      "4   12171.372327    125427.009343   66832.742670\n",
      "\n",
      "Descripción sintética:\n",
      "           R&D Spend  Marketing Spend         Profit\n",
      "count    5000.000000      5000.000000    5000.000000\n",
      "mean    81742.538456    234960.705759  116520.041014\n",
      "std     38740.559020    101612.595932   36885.925382\n",
      "min         6.743582      1785.796300   37087.480029\n",
      "25%     54529.566733    164167.716690   90857.851840\n",
      "50%     79165.801009    231568.914533  110471.649192\n",
      "75%    108214.996447    303046.701996  136879.224384\n",
      "max    242894.992001    705530.924956  370607.972473\n",
      "\n",
      "=== Regresión lineal (scikit-learn) sobre datos sintéticos ===\n",
      "Intercepto: 49,331.7602\n",
      "Coef R&D Spend: 0.8313\n",
      "Coef Marketing Spend: -0.0033\n",
      "R^2 (in-sample): 0.7519\n",
      "\n",
      "=== Resumen OLS (statsmodels) ===\n",
      "                            OLS Regression Results                            \n",
      "==============================================================================\n",
      "Dep. Variable:                      y   R-squared:                       0.752\n",
      "Model:                            OLS   Adj. R-squared:                  0.752\n",
      "Method:                 Least Squares   F-statistic:                     7573.\n",
      "Date:                Sat, 30 Aug 2025   Prob (F-statistic):               0.00\n",
      "Time:                        23:48:23   Log-Likelihood:                -56187.\n",
      "No. Observations:                5000   AIC:                         1.124e+05\n",
      "Df Residuals:                    4997   BIC:                         1.124e+05\n",
      "Df Model:                           2                                         \n",
      "Covariance Type:            nonrobust                                         \n",
      "==============================================================================\n",
      "                 coef    std err          t      P>|t|      [0.025      0.975]\n",
      "------------------------------------------------------------------------------\n",
      "const       4.933e+04    683.664     72.158      0.000     4.8e+04    5.07e+04\n",
      "x1             0.8313      0.009     92.065      0.000       0.814       0.849\n",
      "x2            -0.0033      0.003     -0.946      0.344      -0.010       0.003\n",
      "==============================================================================\n",
      "Omnibus:                     2704.879   Durbin-Watson:                   2.009\n",
      "Prob(Omnibus):                  0.000   Jarque-Bera (JB):            45641.543\n",
      "Skew:                          -2.205   Prob(JB):                         0.00\n",
      "Kurtosis:                      17.129   Cond. No.                     7.10e+05\n",
      "==============================================================================\n",
      "\n",
      "Notes:\n",
      "[1] Standard Errors assume that the covariance matrix of the errors is correctly specified.\n",
      "[2] The condition number is large, 7.1e+05. This might indicate that there are\n",
      "strong multicollinearity or other numerical problems.\n"
     ]
    }
   ],
   "source": [
    "import numpy as np\n",
    "import pandas as pd\n",
    "from copulas.multivariate import GaussianMultivariate\n",
    "from copulas.univariate import GaussianUnivariate\n",
    "\n",
    "# --- columnas que usaremos ---\n",
    "cols = ['R&D Spend','Marketing Spend','Profit']\n",
    "\n",
    "# ============= 1) Ajustar el Modelo C (log SOLO Profit) sobre los datos reales ============\n",
    "X = df[cols].copy()\n",
    "if (X['Profit'] <= 0).any():\n",
    "    raise ValueError(\"Profit debe ser > 0 para aplicar log (revisa datos).\")\n",
    "\n",
    "Xz = X.copy()\n",
    "Xz['Profit'] = np.log(Xz['Profit'])\n",
    "\n",
    "model = GaussianMultivariate(distribution=GaussianUnivariate, random_state=123)\n",
    "model.fit(Xz)\n",
    "\n",
    "# ============= 2) Muestrear 5,000 observaciones sintéticas y revertir el log en Profit ====\n",
    "syn_z = model.sample(5000)\n",
    "syn   = syn_z.copy()\n",
    "syn['Profit'] = np.exp(syn_z['Profit'])\n",
    "syn = syn[cols].astype(float)\n",
    "\n",
    "\n",
    "\n",
    "\n",
    "\n",
    "cols_pos = ['R&D Spend','Marketing Spend']\n",
    "\n",
    "def resample_nonneg(syn_df, model, batch=2000):\n",
    "    mask = (syn_df[cols_pos] < 0).any(axis=1)\n",
    "    n_bad = mask.sum()\n",
    "    while n_bad > 0:\n",
    "        # vuelve a samplear en el espacio del modelo (Profit sigue en log)\n",
    "        add_z = model.sample(max(batch, n_bad))\n",
    "        add   = add_z.copy()\n",
    "        add['Profit'] = np.exp(add_z['Profit'])\n",
    "        # toma tantas filas como negativas queden y reemplaza\n",
    "        to_take = syn_df.loc[mask].index\n",
    "        syn_df.loc[to_take, cols_pos] = add.loc[:len(to_take)-1, cols_pos].values\n",
    "        # recomputa máscara\n",
    "        mask = (syn_df[cols_pos] < 0).any(axis=1)\n",
    "        n_bad = mask.sum()\n",
    "    return syn_df\n",
    "\n",
    "# usarlo:\n",
    "syn = resample_nonneg(syn, model)\n",
    "\n",
    "\n",
    "\n",
    "\n",
    "\n",
    "\n",
    "\n",
    "print(\"Muestra sintética (primeras filas):\")\n",
    "print(syn.head())\n",
    "print(\"\\nDescripción sintética:\")\n",
    "print(syn.describe())\n",
    "\n",
    "# ============= 3) Ajustar una regresión lineal Profit ~ R&D Spend + Marketing Spend =======\n",
    "from sklearn.linear_model import LinearRegression\n",
    "\n",
    "X_syn = syn[['R&D Spend','Marketing Spend']].values\n",
    "y_syn = syn['Profit'].values\n",
    "\n",
    "lin = LinearRegression()\n",
    "lin.fit(X_syn, y_syn)\n",
    "\n",
    "print(\"\\n=== Regresión lineal (scikit-learn) sobre datos sintéticos ===\")\n",
    "print(f\"Intercepto: {lin.intercept_:,.4f}\")\n",
    "print(f\"Coef R&D Spend: {lin.coef_[0]:,.4f}\")\n",
    "print(f\"Coef Marketing Spend: {lin.coef_[1]:,.4f}\")\n",
    "print(f\"R^2 (in-sample): {lin.score(X_syn, y_syn):.4f}\")\n",
    "\n",
    "# (Opcional) Resumen estadístico con statsmodels\n",
    "try:\n",
    "    import statsmodels.api as sm\n",
    "    X_sm = sm.add_constant(X_syn)\n",
    "    ols = sm.OLS(y_syn, X_sm).fit()\n",
    "    print(\"\\n=== Resumen OLS (statsmodels) ===\")\n",
    "    print(ols.summary())\n",
    "except Exception as e:\n",
    "    print(\"\\n(No se pudo imprimir resumen de statsmodels):\", e)\n"
   ]
  },
  {
   "cell_type": "code",
   "execution_count": 116,
   "id": "89302533",
   "metadata": {},
   "outputs": [
    {
     "name": "stdout",
     "output_type": "stream",
     "text": [
      "Chequeo rápido (no debería haber negativos en spends):\n",
      "R&D Spend           1000.23\n",
      "Marketing Spend     1903.93\n",
      "Profit             49490.75\n",
      "dtype: float64\n",
      "\n",
      "=== Regresión lineal en sintéticos (ECDF-copula) ===\n",
      "Intercepto: 53,944.3122\n",
      "Coef R&D Spend: 0.7980\n",
      "Coef Marketing: 0.0030\n",
      "R^2 (in-sample): 0.9494\n",
      "\n",
      "=== Coeficientes vs REALES ===\n",
      "Intercepto real: 51,859.0465\n",
      "R&D real      : 0.7581\n",
      "Marketing real: 0.0258\n"
     ]
    }
   ],
   "source": [
    "import numpy as np\n",
    "import pandas as pd\n",
    "from scipy.stats import norm, rankdata\n",
    "from sklearn.linear_model import LinearRegression\n",
    "\n",
    "# --- columnas ---\n",
    "cols = ['R&D Spend','Marketing Spend','Profit']\n",
    "X = df[cols].copy().values\n",
    "n, d = X.shape\n",
    "\n",
    "# ===== 1) De datos reales -> U(0,1) por rango (ECDF robusta) =====\n",
    "U = np.empty_like(X, dtype=float)\n",
    "for j in range(d):\n",
    "    r = rankdata(X[:, j], method='average')         # rangos 1..n\n",
    "    U[:, j] = (r - 0.5) / n                         # en (0,1)\n",
    "\n",
    "# ===== 2) U -> Z con normal score; estimar correlación =====\n",
    "Z = norm.ppf(U)\n",
    "R = np.corrcoef(Z, rowvar=False)\n",
    "# pequeña regularización por si acaso\n",
    "R = (R + R.T) / 2\n",
    "w, V = np.linalg.eigh(R)\n",
    "w = np.clip(w, 1e-8, None)\n",
    "R = (V * w) @ V.T\n",
    "L = np.linalg.cholesky(R)\n",
    "\n",
    "# ===== 3) Muestrear en Z, volver a U =====\n",
    "m = 5000\n",
    "Zs = np.random.randn(m, d) @ L.T\n",
    "Us = norm.cdf(Zs)\n",
    "\n",
    "# ===== 4) Inversa ECDF (sin negativos ni fuera de rango) =====\n",
    "def inv_ecdf(x_real, u):\n",
    "    x_sorted = np.sort(x_real)\n",
    "    p = (np.arange(1, len(x_sorted)+1) - 0.5) / len(x_sorted)  # (0,1)\n",
    "    # interpolación dentro de rango observado (sin extrapolar)\n",
    "    return np.interp(u, p, x_sorted)\n",
    "\n",
    "syn = pd.DataFrame({cols[j]: inv_ecdf(X[:, j], Us[:, j]) for j in range(d)})\n",
    "\n",
    "print(\"Chequeo rápido (no debería haber negativos en spends):\")\n",
    "print(syn[cols].min())  # R&D y Marketing >= min(real), Profit >= min(real)\n",
    "\n",
    "# ===== 5) Regresión lineal en sintéticos =====\n",
    "X_syn = syn[['R&D Spend','Marketing Spend']].values\n",
    "y_syn = syn['Profit'].values\n",
    "\n",
    "lin = LinearRegression().fit(X_syn, y_syn)\n",
    "print(\"\\n=== Regresión lineal en sintéticos (ECDF-copula) ===\")\n",
    "print(f\"Intercepto: {lin.intercept_:,.4f}\")\n",
    "print(f\"Coef R&D Spend: {lin.coef_[0]:,.4f}\")\n",
    "print(f\"Coef Marketing: {lin.coef_[1]:,.4f}\")\n",
    "print(f\"R^2 (in-sample): {lin.score(X_syn, y_syn):.4f}\")\n",
    "\n",
    "# (Opcional) compara con reales para ver consistencia\n",
    "from sklearn.metrics import r2_score\n",
    "lin_real = LinearRegression().fit(df[['R&D Spend','Marketing Spend']], df['Profit'])\n",
    "print(\"\\n=== Coeficientes vs REALES ===\")\n",
    "print(f\"Intercepto real: {lin_real.intercept_:,.4f}\")\n",
    "print(f\"R&D real      : {lin_real.coef_[0]:,.4f}\")\n",
    "print(f\"Marketing real: {lin_real.coef_[1]:,.4f}\")\n"
   ]
  },
  {
   "cell_type": "code",
   "execution_count": 120,
   "id": "8890f6b7",
   "metadata": {},
   "outputs": [
    {
     "name": "stdout",
     "output_type": "stream",
     "text": [
      "Coefs reales: 51859.04654673276 [0.75805596 0.02580322]\n",
      "\n",
      "=== OLS en sintéticos (cópula X + bootstrap e) ===\n",
      "Intercepto: 51,821.8466\n",
      "Coef R&D   : 0.7626\n",
      "Coef Mkt   : 0.0249\n",
      "R^2        : 0.9588\n"
     ]
    }
   ],
   "source": [
    "import numpy as np\n",
    "import pandas as pd\n",
    "from scipy.stats import norm, rankdata\n",
    "from sklearn.linear_model import LinearRegression\n",
    "\n",
    "# ========= 1) Ajuste OLS en datos REALES para fijar la relación Profit ~ X =========\n",
    "colsX = ['R&D Spend','Marketing Spend']\n",
    "y = df['Profit'].values\n",
    "X = df[colsX].values\n",
    "\n",
    "lin_real = LinearRegression().fit(X, y)\n",
    "beta0 = lin_real.intercept_\n",
    "beta  = lin_real.coef_.copy()\n",
    "resid = y - lin_real.predict(X)\n",
    "\n",
    "print(\"Coefs reales:\", beta0, beta)\n",
    "\n",
    "# ========= 2) ECDF + Cópula Gaussiana SOLO para los predictores X =========\n",
    "n, d = X.shape\n",
    "U = np.empty_like(X, dtype=float)\n",
    "for j in range(d):\n",
    "    r = rankdata(X[:, j], method='average')          # rangos 1..n\n",
    "    U[:, j] = (r - 0.5) / n                          # (0,1)\n",
    "\n",
    "Z = norm.ppf(U)                                      # normal scores\n",
    "R = np.corrcoef(Z, rowvar=False)                     # correlación latente\n",
    "R = (R + R.T)/2\n",
    "# Regularización mínima por si hay problemas numéricos:\n",
    "w, V = np.linalg.eigh(R); w = np.clip(w, 1e-8, None); R = (V * w) @ V.T\n",
    "L = np.linalg.cholesky(R)\n",
    "\n",
    "# Muestrear nuevos predictores con la misma dependencia de rango\n",
    "m = 5000\n",
    "Zs = np.random.randn(m, d) @ L.T\n",
    "Us = norm.cdf(Zs)\n",
    "\n",
    "def inv_ecdf(x_real, u):\n",
    "    x_sorted = np.sort(x_real)\n",
    "    p = (np.arange(1, len(x_sorted)+1) - 0.5) / len(x_sorted)\n",
    "    return np.interp(u, p, x_sorted)\n",
    "\n",
    "Xs = np.column_stack([inv_ecdf(X[:, j], Us[:, j]) for j in range(d)])\n",
    "\n",
    "# ========= 3) Generar Profit con el modelo lineal + bootstrap de residuos =========\n",
    "eps = np.random.choice(resid, size=m, replace=True)\n",
    "ys  = beta0 + Xs @ beta + eps\n",
    "\n",
    "syn_reg = pd.DataFrame({'R&D Spend': Xs[:,0],\n",
    "                        'Marketing Spend': Xs[:,1],\n",
    "                        'Profit': ys})\n",
    "\n",
    "# ========= 4) Chequeo rápido: coeficientes y R² en sintético =========\n",
    "lin_syn = LinearRegression().fit(syn_reg[colsX].values, syn_reg['Profit'].values)\n",
    "print(\"\\n=== OLS en sintéticos (cópula X + bootstrap e) ===\")\n",
    "print(f\"Intercepto: {lin_syn.intercept_:,.4f}\")\n",
    "print(f\"Coef R&D   : {lin_syn.coef_[0]:,.4f}\")\n",
    "print(f\"Coef Mkt   : {lin_syn.coef_[1]:,.4f}\")\n",
    "print(f\"R^2        : {lin_syn.score(syn_reg[colsX].values, syn_reg['Profit'].values):.4f}\")\n",
    "\n"
   ]
  },
  {
   "cell_type": "code",
   "execution_count": 123,
   "id": "c3bd61b2",
   "metadata": {},
   "outputs": [
    {
     "name": "stdout",
     "output_type": "stream",
     "text": [
      "=== Entrenado en REALES (n=50) ===\n",
      "Intercepto: 51,859.0465\n",
      "Coef R&D   : 0.758056\n",
      "Coef Mkt   : 0.025803\n",
      "R^2 in-sample: 0.9591 | RMSE in-sample: 7,194.30\n",
      "\n",
      "=== Entrenado en SINTÉTICOS (n=50000) ===\n",
      "Intercepto: 51,910.5165\n",
      "Coef R&D   : 0.757350\n",
      "Coef Mkt   : 0.025905\n",
      "\n",
      "=== Evaluación sobre los 50 REALES (como test) ===\n",
      "Modelo REAL -> R^2: 0.9591 | RMSE: 7,194.30\n",
      "Modelo SINT -> R^2: 0.9591 | RMSE: 7,194.37\n",
      "\n",
      "=== Diferencias de coeficientes (SINT - REAL) ===\n",
      "Δ Intercepto: 51.4700\n",
      "Δ R&D       : -0.000706\n",
      "Δ Marketing : 0.000102\n"
     ]
    }
   ],
   "source": [
    "import numpy as np\n",
    "import pandas as pd\n",
    "from scipy.stats import norm, rankdata\n",
    "from sklearn.linear_model import LinearRegression\n",
    "from sklearn.metrics import r2_score, mean_squared_error\n",
    "\n",
    "# -----------------------------\n",
    "# 1) Modelo REAL entrenado en los 50 reales\n",
    "# -----------------------------\n",
    "colsX = ['R&D Spend','Marketing Spend']\n",
    "ycol  = 'Profit'\n",
    "\n",
    "X_real = df[colsX].values\n",
    "y_real = df[ycol].values\n",
    "\n",
    "lin_real = LinearRegression().fit(X_real, y_real)\n",
    "b0_real  = lin_real.intercept_\n",
    "b_real   = lin_real.coef_\n",
    "r2_real_in = lin_real.score(X_real, y_real)\n",
    "mse_real_in  = mean_squared_error(y_real, lin_real.predict(X_real))\n",
    "rmse_real_in = np.sqrt(mse_real_in)\n",
    "\n",
    "print(\"=== Entrenado en REALES (n=50) ===\")\n",
    "print(f\"Intercepto: {b0_real:,.4f}\")\n",
    "print(f\"Coef R&D   : {b_real[0]:,.6f}\")\n",
    "print(f\"Coef Mkt   : {b_real[1]:,.6f}\")\n",
    "print(f\"R^2 in-sample: {r2_real_in:.4f} | RMSE in-sample: {rmse_real_in:,.2f}\")\n",
    "\n",
    "# -----------------------------\n",
    "# 2) Generar SINTÉTICOS con ECDF-cópula para X y bootstrap de residuos para y\n",
    "# -----------------------------\n",
    "np.random.seed(123)\n",
    "n, d = X_real.shape\n",
    "\n",
    "# (a) U(0,1) por rangos para cada predictor\n",
    "U = np.empty_like(X_real, dtype=float)\n",
    "for j in range(d):\n",
    "    r = rankdata(X_real[:, j], method='average')   # 1..n\n",
    "    U[:, j] = (r - 0.5) / n                        # (0,1)\n",
    "\n",
    "# (b) Normal scores + correlación latente + muestreo\n",
    "Z = norm.ppf(U)\n",
    "R = np.corrcoef(Z, rowvar=False)\n",
    "R = (R + R.T)/2\n",
    "# regularización mínima\n",
    "w, V = np.linalg.eigh(R)\n",
    "w = np.clip(w, 1e-8, None)\n",
    "R = (V * w) @ V.T\n",
    "L = np.linalg.cholesky(R)\n",
    "\n",
    "m = 50000\n",
    "Zs = np.random.randn(m, d) @ L.T\n",
    "Us = norm.cdf(Zs)\n",
    "\n",
    "# (c) Inversa ECDF para volver a escala original (sin negativos)\n",
    "def inv_ecdf(x_real, u):\n",
    "    xs = np.sort(x_real)\n",
    "    p  = (np.arange(1, len(xs)+1) - 0.5) / len(xs)\n",
    "    return np.interp(u, p, xs)\n",
    "\n",
    "Xs = np.column_stack([inv_ecdf(X_real[:, j], Us[:, j]) for j in range(d)])\n",
    "\n",
    "# (d) y sintética = modelo real + bootstrap de residuos\n",
    "resid = y_real - lin_real.predict(X_real)\n",
    "eps   = np.random.choice(resid, size=m, replace=True)\n",
    "ys    = b0_real + Xs @ b_real + eps\n",
    "\n",
    "syn = pd.DataFrame({'R&D Spend': Xs[:,0],\n",
    "                    'Marketing Spend': Xs[:,1],\n",
    "                    'Profit': ys})\n",
    "\n",
    "# -----------------------------\n",
    "# 3) Modelo SINTÉTICO entrenado en los m sintéticos\n",
    "# -----------------------------\n",
    "lin_syn = LinearRegression().fit(syn[colsX].values, syn[ycol].values)\n",
    "b0_syn  = lin_syn.intercept_\n",
    "b_syn   = lin_syn.coef_\n",
    "\n",
    "# Evaluamos AMBOS modelos sobre los 50 datos REALES (test en lo real)\n",
    "r2_real_test_syn = lin_syn.score(X_real, y_real)\n",
    "mse_real_test_syn  = mean_squared_error(y_real, lin_syn.predict(X_real))\n",
    "rmse_real_test_syn = np.sqrt(mse_real_test_syn)\n",
    "\n",
    "print(\"\\n=== Entrenado en SINTÉTICOS (n=50000) ===\")\n",
    "print(f\"Intercepto: {b0_syn:,.4f}\")\n",
    "print(f\"Coef R&D   : {b_syn[0]:,.6f}\")\n",
    "print(f\"Coef Mkt   : {b_syn[1]:,.6f}\")\n",
    "\n",
    "print(\"\\n=== Evaluación sobre los 50 REALES (como test) ===\")\n",
    "print(f\"Modelo REAL -> R^2: {r2_real_in:.4f} | RMSE: {rmse_real_in:,.2f}\")\n",
    "print(f\"Modelo SINT -> R^2: {r2_real_test_syn:.4f} | RMSE: {rmse_real_test_syn:,.2f}\")\n",
    "\n",
    "# Comparativa de coeficientes\n",
    "print(\"\\n=== Diferencias de coeficientes (SINT - REAL) ===\")\n",
    "print(f\"Δ Intercepto: {b0_syn - b0_real:,.4f}\")\n",
    "print(f\"Δ R&D       : {b_syn[0] - b_real[0]:,.6f}\")\n",
    "print(f\"Δ Marketing : {b_syn[1] - b_real[1]:,.6f}\")\n"
   ]
  }
 ],
 "metadata": {
  "kernelspec": {
   "display_name": "PFP2",
   "language": "python",
   "name": "python3"
  },
  "language_info": {
   "codemirror_mode": {
    "name": "ipython",
    "version": 3
   },
   "file_extension": ".py",
   "mimetype": "text/x-python",
   "name": "python",
   "nbconvert_exporter": "python",
   "pygments_lexer": "ipython3",
   "version": "3.11.13"
  }
 },
 "nbformat": 4,
 "nbformat_minor": 5
}
